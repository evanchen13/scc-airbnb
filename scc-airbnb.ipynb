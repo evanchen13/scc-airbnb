{
 "cells": [
  {
   "cell_type": "markdown",
   "metadata": {},
   "source": [
    "# Santa Clara County Airbnb Investigation\n",
    "\n",
    "## Table of Contents\n",
    "\n",
    "- <a href='#business'>Business Understanding</a>\n",
    "- <a href='#data'>Data Understanding</a>\n",
    "- <a href='#prepare'>Prepare Data</a>\n",
    "- <a href='#analysis'>Data Analysis & Modeling</a>\n",
    "- <a href='#results'>Results</a>\n",
    "- <a href='#deploy'>Deploy</a>\n",
    "- <a href='#sources'>Sources</a>\n",
    "\n",
    "<a id='business'></a>\n",
    "## Business Understanding\n",
    "\n",
    "[Airbnb](https://www.airbnb.com), founded in 2008, is an online platform that allows property owners to market short-term rentals to guests. The company's original intention was to follow a sharing economy model in which hosts would only occasionally rent out their spaces. However, there have been concerns in recent years that owners are listing their properties permanently, more like hotels, which is against the law in many locations and could lead to a number of downstream consequences such as gentrification and lack of affordable housing. Airbnbs that operate like hotels are also able to avoid certain taxes and regulations that other regular hotels must endure.\n",
    "\n",
    "I was curious to see the effects of Airbnb in Santa Clara County, which is where I live. As a result, I have downloaded data from [Inside Airbnb](http://insideairbnb.com/index.html) on all listings within the county. In the following analysis, I will answer the following questions:\n",
    "\n",
    "- How often are Airbnb listings occupied?\n",
    "- Do Airbnbs generate more income per month than long-term rentals?\n",
    "- What percentage of listings have a host that lives in a different city than the listing location?\n",
    "- How many listings do hosts tend to have?\n",
    "- What features best predict how many listings a host has?\n",
    "\n",
    "<a id='data'></a>\n",
    "## Data Understanding\n",
    "\n",
    "I will begin by importing the necessary packages and reading in the data."
   ]
  },
  {
   "cell_type": "code",
   "execution_count": 1,
   "metadata": {},
   "outputs": [],
   "source": [
    "import numpy as np\n",
    "import pandas as pd\n",
    "import matplotlib.pyplot as plt\n",
    "import seaborn as sb\n",
    "import re\n",
    "import datetime as dt\n",
    "from sklearn.model_selection import train_test_split\n",
    "from sklearn.linear_model import LinearRegression\n",
    "from sklearn.metrics import r2_score\n",
    "%matplotlib inline\n",
    "pd.set_option('display.max_columns', None)"
   ]
  },
  {
   "cell_type": "code",
   "execution_count": 2,
   "metadata": {},
   "outputs": [
    {
     "data": {
      "text/html": [
       "<div>\n",
       "<style scoped>\n",
       "    .dataframe tbody tr th:only-of-type {\n",
       "        vertical-align: middle;\n",
       "    }\n",
       "\n",
       "    .dataframe tbody tr th {\n",
       "        vertical-align: top;\n",
       "    }\n",
       "\n",
       "    .dataframe thead th {\n",
       "        text-align: right;\n",
       "    }\n",
       "</style>\n",
       "<table border=\"1\" class=\"dataframe\">\n",
       "  <thead>\n",
       "    <tr style=\"text-align: right;\">\n",
       "      <th></th>\n",
       "      <th>id</th>\n",
       "      <th>listing_url</th>\n",
       "      <th>scrape_id</th>\n",
       "      <th>last_scraped</th>\n",
       "      <th>name</th>\n",
       "      <th>description</th>\n",
       "      <th>neighborhood_overview</th>\n",
       "      <th>picture_url</th>\n",
       "      <th>host_id</th>\n",
       "      <th>host_url</th>\n",
       "      <th>host_name</th>\n",
       "      <th>host_since</th>\n",
       "      <th>host_location</th>\n",
       "      <th>host_about</th>\n",
       "      <th>host_response_time</th>\n",
       "      <th>host_response_rate</th>\n",
       "      <th>host_acceptance_rate</th>\n",
       "      <th>host_is_superhost</th>\n",
       "      <th>host_thumbnail_url</th>\n",
       "      <th>host_picture_url</th>\n",
       "      <th>host_neighbourhood</th>\n",
       "      <th>host_listings_count</th>\n",
       "      <th>host_total_listings_count</th>\n",
       "      <th>host_verifications</th>\n",
       "      <th>host_has_profile_pic</th>\n",
       "      <th>host_identity_verified</th>\n",
       "      <th>neighbourhood</th>\n",
       "      <th>neighbourhood_cleansed</th>\n",
       "      <th>neighbourhood_group_cleansed</th>\n",
       "      <th>latitude</th>\n",
       "      <th>longitude</th>\n",
       "      <th>property_type</th>\n",
       "      <th>room_type</th>\n",
       "      <th>accommodates</th>\n",
       "      <th>bathrooms</th>\n",
       "      <th>bathrooms_text</th>\n",
       "      <th>bedrooms</th>\n",
       "      <th>beds</th>\n",
       "      <th>amenities</th>\n",
       "      <th>price</th>\n",
       "      <th>minimum_nights</th>\n",
       "      <th>maximum_nights</th>\n",
       "      <th>minimum_minimum_nights</th>\n",
       "      <th>maximum_minimum_nights</th>\n",
       "      <th>minimum_maximum_nights</th>\n",
       "      <th>maximum_maximum_nights</th>\n",
       "      <th>minimum_nights_avg_ntm</th>\n",
       "      <th>maximum_nights_avg_ntm</th>\n",
       "      <th>calendar_updated</th>\n",
       "      <th>has_availability</th>\n",
       "      <th>availability_30</th>\n",
       "      <th>availability_60</th>\n",
       "      <th>availability_90</th>\n",
       "      <th>availability_365</th>\n",
       "      <th>calendar_last_scraped</th>\n",
       "      <th>number_of_reviews</th>\n",
       "      <th>number_of_reviews_ltm</th>\n",
       "      <th>number_of_reviews_l30d</th>\n",
       "      <th>first_review</th>\n",
       "      <th>last_review</th>\n",
       "      <th>review_scores_rating</th>\n",
       "      <th>review_scores_accuracy</th>\n",
       "      <th>review_scores_cleanliness</th>\n",
       "      <th>review_scores_checkin</th>\n",
       "      <th>review_scores_communication</th>\n",
       "      <th>review_scores_location</th>\n",
       "      <th>review_scores_value</th>\n",
       "      <th>license</th>\n",
       "      <th>instant_bookable</th>\n",
       "      <th>calculated_host_listings_count</th>\n",
       "      <th>calculated_host_listings_count_entire_homes</th>\n",
       "      <th>calculated_host_listings_count_private_rooms</th>\n",
       "      <th>calculated_host_listings_count_shared_rooms</th>\n",
       "      <th>reviews_per_month</th>\n",
       "    </tr>\n",
       "  </thead>\n",
       "  <tbody>\n",
       "    <tr>\n",
       "      <th>0</th>\n",
       "      <td>11464</td>\n",
       "      <td>https://www.airbnb.com/rooms/11464</td>\n",
       "      <td>20201025134943</td>\n",
       "      <td>2020-10-25</td>\n",
       "      <td>Deluxe Studio 5 min.  to SC Kaiser &amp; Apple Park</td>\n",
       "      <td>Custom built Studio with exquisite design. Rea...</td>\n",
       "      <td>10 min. to Lucky's and Starbucks at El Camino ...</td>\n",
       "      <td>https://a0.muscache.com/pictures/121321/2c5a5a...</td>\n",
       "      <td>42458</td>\n",
       "      <td>https://www.airbnb.com/users/show/42458</td>\n",
       "      <td>Emey</td>\n",
       "      <td>2009-09-30</td>\n",
       "      <td>Mountain View, California, United States</td>\n",
       "      <td>I pride myself on attention to details and cus...</td>\n",
       "      <td>within an hour</td>\n",
       "      <td>100%</td>\n",
       "      <td>91%</td>\n",
       "      <td>f</td>\n",
       "      <td>https://a0.muscache.com/im/users/42458/profile...</td>\n",
       "      <td>https://a0.muscache.com/im/users/42458/profile...</td>\n",
       "      <td>Santa Clara</td>\n",
       "      <td>15</td>\n",
       "      <td>15</td>\n",
       "      <td>['email', 'phone', 'reviews']</td>\n",
       "      <td>t</td>\n",
       "      <td>f</td>\n",
       "      <td>Santa Clara, California, United States</td>\n",
       "      <td>Santa Clara</td>\n",
       "      <td>NaN</td>\n",
       "      <td>37.34342</td>\n",
       "      <td>-121.98829</td>\n",
       "      <td>Entire apartment</td>\n",
       "      <td>Entire home/apt</td>\n",
       "      <td>1</td>\n",
       "      <td>NaN</td>\n",
       "      <td>1 bath</td>\n",
       "      <td>NaN</td>\n",
       "      <td>0.0</td>\n",
       "      <td>[\"Pool\", \"Fire extinguisher\", \"Hair dryer\", \"B...</td>\n",
       "      <td>$75.00</td>\n",
       "      <td>14</td>\n",
       "      <td>365</td>\n",
       "      <td>14.0</td>\n",
       "      <td>14.0</td>\n",
       "      <td>365.0</td>\n",
       "      <td>365.0</td>\n",
       "      <td>14.0</td>\n",
       "      <td>365.0</td>\n",
       "      <td>NaN</td>\n",
       "      <td>t</td>\n",
       "      <td>3</td>\n",
       "      <td>33</td>\n",
       "      <td>63</td>\n",
       "      <td>153</td>\n",
       "      <td>2020-10-25</td>\n",
       "      <td>6</td>\n",
       "      <td>0</td>\n",
       "      <td>0</td>\n",
       "      <td>2014-06-15</td>\n",
       "      <td>2019-10-11</td>\n",
       "      <td>87.0</td>\n",
       "      <td>10.0</td>\n",
       "      <td>10.0</td>\n",
       "      <td>10.0</td>\n",
       "      <td>9.0</td>\n",
       "      <td>9.0</td>\n",
       "      <td>9.0</td>\n",
       "      <td>NaN</td>\n",
       "      <td>t</td>\n",
       "      <td>14</td>\n",
       "      <td>14</td>\n",
       "      <td>0</td>\n",
       "      <td>0</td>\n",
       "      <td>0.08</td>\n",
       "    </tr>\n",
       "    <tr>\n",
       "      <th>1</th>\n",
       "      <td>21373</td>\n",
       "      <td>https://www.airbnb.com/rooms/21373</td>\n",
       "      <td>20201025134943</td>\n",
       "      <td>2020-10-25</td>\n",
       "      <td>Bonsai Garden Inn in Professorville</td>\n",
       "      <td>Room  in gracious home with beautiful garden. ...</td>\n",
       "      <td>This room is in an ultra convenient location i...</td>\n",
       "      <td>https://a0.muscache.com/pictures/527285/0f9d08...</td>\n",
       "      <td>7054</td>\n",
       "      <td>https://www.airbnb.com/users/show/7054</td>\n",
       "      <td>Mei Lin</td>\n",
       "      <td>2009-01-24</td>\n",
       "      <td>Palo Alto, California, United States</td>\n",
       "      <td>I have lived and worked in Asia, Europe, Austr...</td>\n",
       "      <td>NaN</td>\n",
       "      <td>NaN</td>\n",
       "      <td>97%</td>\n",
       "      <td>t</td>\n",
       "      <td>https://a0.muscache.com/im/users/7054/profile_...</td>\n",
       "      <td>https://a0.muscache.com/im/users/7054/profile_...</td>\n",
       "      <td>Palo Alto</td>\n",
       "      <td>5</td>\n",
       "      <td>5</td>\n",
       "      <td>['email', 'phone', 'reviews', 'jumio', 'offlin...</td>\n",
       "      <td>t</td>\n",
       "      <td>t</td>\n",
       "      <td>Palo Alto, California, United States</td>\n",
       "      <td>Palo Alto</td>\n",
       "      <td>NaN</td>\n",
       "      <td>37.44001</td>\n",
       "      <td>-122.15667</td>\n",
       "      <td>Private room in villa</td>\n",
       "      <td>Private room</td>\n",
       "      <td>1</td>\n",
       "      <td>NaN</td>\n",
       "      <td>2 shared baths</td>\n",
       "      <td>1.0</td>\n",
       "      <td>1.0</td>\n",
       "      <td>[\"Fire extinguisher\", \"Hair dryer\", \"Host gree...</td>\n",
       "      <td>$80.00</td>\n",
       "      <td>2</td>\n",
       "      <td>730</td>\n",
       "      <td>2.0</td>\n",
       "      <td>2.0</td>\n",
       "      <td>730.0</td>\n",
       "      <td>730.0</td>\n",
       "      <td>2.0</td>\n",
       "      <td>730.0</td>\n",
       "      <td>NaN</td>\n",
       "      <td>t</td>\n",
       "      <td>0</td>\n",
       "      <td>0</td>\n",
       "      <td>22</td>\n",
       "      <td>297</td>\n",
       "      <td>2020-10-25</td>\n",
       "      <td>264</td>\n",
       "      <td>17</td>\n",
       "      <td>0</td>\n",
       "      <td>2010-05-28</td>\n",
       "      <td>2020-03-14</td>\n",
       "      <td>97.0</td>\n",
       "      <td>10.0</td>\n",
       "      <td>10.0</td>\n",
       "      <td>10.0</td>\n",
       "      <td>10.0</td>\n",
       "      <td>10.0</td>\n",
       "      <td>10.0</td>\n",
       "      <td>NaN</td>\n",
       "      <td>f</td>\n",
       "      <td>4</td>\n",
       "      <td>0</td>\n",
       "      <td>4</td>\n",
       "      <td>0</td>\n",
       "      <td>2.08</td>\n",
       "    </tr>\n",
       "    <tr>\n",
       "      <th>2</th>\n",
       "      <td>62799</td>\n",
       "      <td>https://www.airbnb.com/rooms/62799</td>\n",
       "      <td>20201025134943</td>\n",
       "      <td>2020-10-25</td>\n",
       "      <td>Zen Office and Sofa in Palo Alto</td>\n",
       "      <td>Spacious book filled room, standing desk, bed ...</td>\n",
       "      <td>We are in Professorville, the most desirable a...</td>\n",
       "      <td>https://a0.muscache.com/pictures/56831077/4070...</td>\n",
       "      <td>7054</td>\n",
       "      <td>https://www.airbnb.com/users/show/7054</td>\n",
       "      <td>Mei Lin</td>\n",
       "      <td>2009-01-24</td>\n",
       "      <td>Palo Alto, California, United States</td>\n",
       "      <td>I have lived and worked in Asia, Europe, Austr...</td>\n",
       "      <td>NaN</td>\n",
       "      <td>NaN</td>\n",
       "      <td>97%</td>\n",
       "      <td>t</td>\n",
       "      <td>https://a0.muscache.com/im/users/7054/profile_...</td>\n",
       "      <td>https://a0.muscache.com/im/users/7054/profile_...</td>\n",
       "      <td>Palo Alto</td>\n",
       "      <td>5</td>\n",
       "      <td>5</td>\n",
       "      <td>['email', 'phone', 'reviews', 'jumio', 'offlin...</td>\n",
       "      <td>t</td>\n",
       "      <td>t</td>\n",
       "      <td>Palo Alto, California, United States</td>\n",
       "      <td>Palo Alto</td>\n",
       "      <td>NaN</td>\n",
       "      <td>37.43925</td>\n",
       "      <td>-122.15617</td>\n",
       "      <td>Private room in villa</td>\n",
       "      <td>Private room</td>\n",
       "      <td>2</td>\n",
       "      <td>NaN</td>\n",
       "      <td>2 shared baths</td>\n",
       "      <td>1.0</td>\n",
       "      <td>4.0</td>\n",
       "      <td>[\"Fire extinguisher\", \"Hair dryer\", \"Host gree...</td>\n",
       "      <td>$100.00</td>\n",
       "      <td>7</td>\n",
       "      <td>730</td>\n",
       "      <td>7.0</td>\n",
       "      <td>7.0</td>\n",
       "      <td>1125.0</td>\n",
       "      <td>1125.0</td>\n",
       "      <td>7.0</td>\n",
       "      <td>1125.0</td>\n",
       "      <td>NaN</td>\n",
       "      <td>t</td>\n",
       "      <td>0</td>\n",
       "      <td>0</td>\n",
       "      <td>22</td>\n",
       "      <td>297</td>\n",
       "      <td>2020-10-25</td>\n",
       "      <td>148</td>\n",
       "      <td>10</td>\n",
       "      <td>0</td>\n",
       "      <td>2014-06-11</td>\n",
       "      <td>2020-03-18</td>\n",
       "      <td>98.0</td>\n",
       "      <td>10.0</td>\n",
       "      <td>10.0</td>\n",
       "      <td>10.0</td>\n",
       "      <td>10.0</td>\n",
       "      <td>10.0</td>\n",
       "      <td>9.0</td>\n",
       "      <td>NaN</td>\n",
       "      <td>f</td>\n",
       "      <td>4</td>\n",
       "      <td>0</td>\n",
       "      <td>4</td>\n",
       "      <td>0</td>\n",
       "      <td>1.91</td>\n",
       "    </tr>\n",
       "    <tr>\n",
       "      <th>3</th>\n",
       "      <td>75284</td>\n",
       "      <td>https://www.airbnb.com/rooms/75284</td>\n",
       "      <td>20201025134943</td>\n",
       "      <td>2020-10-25</td>\n",
       "      <td>Garden Room Oasis Walk to Stanford</td>\n",
       "      <td>Room in gracious home with beautiful garden. L...</td>\n",
       "      <td>Live in the heart of the heart of Silicon Vall...</td>\n",
       "      <td>https://a0.muscache.com/pictures/647913/97373a...</td>\n",
       "      <td>7054</td>\n",
       "      <td>https://www.airbnb.com/users/show/7054</td>\n",
       "      <td>Mei Lin</td>\n",
       "      <td>2009-01-24</td>\n",
       "      <td>Palo Alto, California, United States</td>\n",
       "      <td>I have lived and worked in Asia, Europe, Austr...</td>\n",
       "      <td>NaN</td>\n",
       "      <td>NaN</td>\n",
       "      <td>97%</td>\n",
       "      <td>t</td>\n",
       "      <td>https://a0.muscache.com/im/users/7054/profile_...</td>\n",
       "      <td>https://a0.muscache.com/im/users/7054/profile_...</td>\n",
       "      <td>Palo Alto</td>\n",
       "      <td>5</td>\n",
       "      <td>5</td>\n",
       "      <td>['email', 'phone', 'reviews', 'jumio', 'offlin...</td>\n",
       "      <td>t</td>\n",
       "      <td>t</td>\n",
       "      <td>Palo Alto, California, United States</td>\n",
       "      <td>Palo Alto</td>\n",
       "      <td>NaN</td>\n",
       "      <td>37.44157</td>\n",
       "      <td>-122.15553</td>\n",
       "      <td>Private room in villa</td>\n",
       "      <td>Private room</td>\n",
       "      <td>1</td>\n",
       "      <td>NaN</td>\n",
       "      <td>2 shared baths</td>\n",
       "      <td>1.0</td>\n",
       "      <td>1.0</td>\n",
       "      <td>[\"Fire extinguisher\", \"Hair dryer\", \"Host gree...</td>\n",
       "      <td>$85.00</td>\n",
       "      <td>2</td>\n",
       "      <td>365</td>\n",
       "      <td>2.0</td>\n",
       "      <td>2.0</td>\n",
       "      <td>365.0</td>\n",
       "      <td>365.0</td>\n",
       "      <td>2.0</td>\n",
       "      <td>365.0</td>\n",
       "      <td>NaN</td>\n",
       "      <td>t</td>\n",
       "      <td>0</td>\n",
       "      <td>0</td>\n",
       "      <td>22</td>\n",
       "      <td>297</td>\n",
       "      <td>2020-10-25</td>\n",
       "      <td>206</td>\n",
       "      <td>16</td>\n",
       "      <td>0</td>\n",
       "      <td>2011-04-22</td>\n",
       "      <td>2020-03-16</td>\n",
       "      <td>97.0</td>\n",
       "      <td>10.0</td>\n",
       "      <td>10.0</td>\n",
       "      <td>10.0</td>\n",
       "      <td>10.0</td>\n",
       "      <td>10.0</td>\n",
       "      <td>9.0</td>\n",
       "      <td>NaN</td>\n",
       "      <td>f</td>\n",
       "      <td>4</td>\n",
       "      <td>0</td>\n",
       "      <td>4</td>\n",
       "      <td>0</td>\n",
       "      <td>1.78</td>\n",
       "    </tr>\n",
       "    <tr>\n",
       "      <th>4</th>\n",
       "      <td>106365</td>\n",
       "      <td>https://www.airbnb.com/rooms/106365</td>\n",
       "      <td>20201025134943</td>\n",
       "      <td>2020-10-25</td>\n",
       "      <td>Luxurious &amp; Quiet Home near Main St, Cupertino</td>\n",
       "      <td>LUXURIOUS APT IN QUIET NEIGHBORHOOD–Beautiful ...</td>\n",
       "      <td>Quiet and private space with a year around edi...</td>\n",
       "      <td>https://a0.muscache.com/pictures/36cbb3c4-f59f...</td>\n",
       "      <td>551319</td>\n",
       "      <td>https://www.airbnb.com/users/show/551319</td>\n",
       "      <td>Judith</td>\n",
       "      <td>2011-05-02</td>\n",
       "      <td>Cupertino, California, United States</td>\n",
       "      <td>My husband and I have lived in Cupertino for o...</td>\n",
       "      <td>within an hour</td>\n",
       "      <td>100%</td>\n",
       "      <td>83%</td>\n",
       "      <td>t</td>\n",
       "      <td>https://a0.muscache.com/im/pictures/user/77656...</td>\n",
       "      <td>https://a0.muscache.com/im/pictures/user/77656...</td>\n",
       "      <td>Cupertino</td>\n",
       "      <td>1</td>\n",
       "      <td>1</td>\n",
       "      <td>['email', 'phone', 'facebook', 'reviews', 'kba...</td>\n",
       "      <td>t</td>\n",
       "      <td>t</td>\n",
       "      <td>Cupertino, California, United States</td>\n",
       "      <td>Cupertino</td>\n",
       "      <td>NaN</td>\n",
       "      <td>37.32194</td>\n",
       "      <td>-122.00511</td>\n",
       "      <td>Entire guesthouse</td>\n",
       "      <td>Entire home/apt</td>\n",
       "      <td>4</td>\n",
       "      <td>NaN</td>\n",
       "      <td>1 bath</td>\n",
       "      <td>1.0</td>\n",
       "      <td>1.0</td>\n",
       "      <td>[\"Fire extinguisher\", \"Hair dryer\", \"High chai...</td>\n",
       "      <td>$189.00</td>\n",
       "      <td>3</td>\n",
       "      <td>1125</td>\n",
       "      <td>3.0</td>\n",
       "      <td>3.0</td>\n",
       "      <td>1125.0</td>\n",
       "      <td>1125.0</td>\n",
       "      <td>3.0</td>\n",
       "      <td>1125.0</td>\n",
       "      <td>NaN</td>\n",
       "      <td>t</td>\n",
       "      <td>23</td>\n",
       "      <td>53</td>\n",
       "      <td>83</td>\n",
       "      <td>212</td>\n",
       "      <td>2020-10-25</td>\n",
       "      <td>179</td>\n",
       "      <td>3</td>\n",
       "      <td>0</td>\n",
       "      <td>2011-08-18</td>\n",
       "      <td>2020-05-31</td>\n",
       "      <td>99.0</td>\n",
       "      <td>10.0</td>\n",
       "      <td>10.0</td>\n",
       "      <td>10.0</td>\n",
       "      <td>10.0</td>\n",
       "      <td>10.0</td>\n",
       "      <td>10.0</td>\n",
       "      <td>NaN</td>\n",
       "      <td>f</td>\n",
       "      <td>1</td>\n",
       "      <td>1</td>\n",
       "      <td>0</td>\n",
       "      <td>0</td>\n",
       "      <td>1.60</td>\n",
       "    </tr>\n",
       "  </tbody>\n",
       "</table>\n",
       "</div>"
      ],
      "text/plain": [
       "       id                          listing_url       scrape_id last_scraped  \\\n",
       "0   11464   https://www.airbnb.com/rooms/11464  20201025134943   2020-10-25   \n",
       "1   21373   https://www.airbnb.com/rooms/21373  20201025134943   2020-10-25   \n",
       "2   62799   https://www.airbnb.com/rooms/62799  20201025134943   2020-10-25   \n",
       "3   75284   https://www.airbnb.com/rooms/75284  20201025134943   2020-10-25   \n",
       "4  106365  https://www.airbnb.com/rooms/106365  20201025134943   2020-10-25   \n",
       "\n",
       "                                              name  \\\n",
       "0  Deluxe Studio 5 min.  to SC Kaiser & Apple Park   \n",
       "1              Bonsai Garden Inn in Professorville   \n",
       "2                 Zen Office and Sofa in Palo Alto   \n",
       "3               Garden Room Oasis Walk to Stanford   \n",
       "4   Luxurious & Quiet Home near Main St, Cupertino   \n",
       "\n",
       "                                         description  \\\n",
       "0  Custom built Studio with exquisite design. Rea...   \n",
       "1  Room  in gracious home with beautiful garden. ...   \n",
       "2  Spacious book filled room, standing desk, bed ...   \n",
       "3  Room in gracious home with beautiful garden. L...   \n",
       "4  LUXURIOUS APT IN QUIET NEIGHBORHOOD–Beautiful ...   \n",
       "\n",
       "                               neighborhood_overview  \\\n",
       "0  10 min. to Lucky's and Starbucks at El Camino ...   \n",
       "1  This room is in an ultra convenient location i...   \n",
       "2  We are in Professorville, the most desirable a...   \n",
       "3  Live in the heart of the heart of Silicon Vall...   \n",
       "4  Quiet and private space with a year around edi...   \n",
       "\n",
       "                                         picture_url  host_id  \\\n",
       "0  https://a0.muscache.com/pictures/121321/2c5a5a...    42458   \n",
       "1  https://a0.muscache.com/pictures/527285/0f9d08...     7054   \n",
       "2  https://a0.muscache.com/pictures/56831077/4070...     7054   \n",
       "3  https://a0.muscache.com/pictures/647913/97373a...     7054   \n",
       "4  https://a0.muscache.com/pictures/36cbb3c4-f59f...   551319   \n",
       "\n",
       "                                   host_url host_name  host_since  \\\n",
       "0   https://www.airbnb.com/users/show/42458      Emey  2009-09-30   \n",
       "1    https://www.airbnb.com/users/show/7054   Mei Lin  2009-01-24   \n",
       "2    https://www.airbnb.com/users/show/7054   Mei Lin  2009-01-24   \n",
       "3    https://www.airbnb.com/users/show/7054   Mei Lin  2009-01-24   \n",
       "4  https://www.airbnb.com/users/show/551319    Judith  2011-05-02   \n",
       "\n",
       "                              host_location  \\\n",
       "0  Mountain View, California, United States   \n",
       "1      Palo Alto, California, United States   \n",
       "2      Palo Alto, California, United States   \n",
       "3      Palo Alto, California, United States   \n",
       "4      Cupertino, California, United States   \n",
       "\n",
       "                                          host_about host_response_time  \\\n",
       "0  I pride myself on attention to details and cus...     within an hour   \n",
       "1  I have lived and worked in Asia, Europe, Austr...                NaN   \n",
       "2  I have lived and worked in Asia, Europe, Austr...                NaN   \n",
       "3  I have lived and worked in Asia, Europe, Austr...                NaN   \n",
       "4  My husband and I have lived in Cupertino for o...     within an hour   \n",
       "\n",
       "  host_response_rate host_acceptance_rate host_is_superhost  \\\n",
       "0               100%                  91%                 f   \n",
       "1                NaN                  97%                 t   \n",
       "2                NaN                  97%                 t   \n",
       "3                NaN                  97%                 t   \n",
       "4               100%                  83%                 t   \n",
       "\n",
       "                                  host_thumbnail_url  \\\n",
       "0  https://a0.muscache.com/im/users/42458/profile...   \n",
       "1  https://a0.muscache.com/im/users/7054/profile_...   \n",
       "2  https://a0.muscache.com/im/users/7054/profile_...   \n",
       "3  https://a0.muscache.com/im/users/7054/profile_...   \n",
       "4  https://a0.muscache.com/im/pictures/user/77656...   \n",
       "\n",
       "                                    host_picture_url host_neighbourhood  \\\n",
       "0  https://a0.muscache.com/im/users/42458/profile...        Santa Clara   \n",
       "1  https://a0.muscache.com/im/users/7054/profile_...          Palo Alto   \n",
       "2  https://a0.muscache.com/im/users/7054/profile_...          Palo Alto   \n",
       "3  https://a0.muscache.com/im/users/7054/profile_...          Palo Alto   \n",
       "4  https://a0.muscache.com/im/pictures/user/77656...          Cupertino   \n",
       "\n",
       "   host_listings_count  host_total_listings_count  \\\n",
       "0                   15                         15   \n",
       "1                    5                          5   \n",
       "2                    5                          5   \n",
       "3                    5                          5   \n",
       "4                    1                          1   \n",
       "\n",
       "                                  host_verifications host_has_profile_pic  \\\n",
       "0                      ['email', 'phone', 'reviews']                    t   \n",
       "1  ['email', 'phone', 'reviews', 'jumio', 'offlin...                    t   \n",
       "2  ['email', 'phone', 'reviews', 'jumio', 'offlin...                    t   \n",
       "3  ['email', 'phone', 'reviews', 'jumio', 'offlin...                    t   \n",
       "4  ['email', 'phone', 'facebook', 'reviews', 'kba...                    t   \n",
       "\n",
       "  host_identity_verified                           neighbourhood  \\\n",
       "0                      f  Santa Clara, California, United States   \n",
       "1                      t    Palo Alto, California, United States   \n",
       "2                      t    Palo Alto, California, United States   \n",
       "3                      t    Palo Alto, California, United States   \n",
       "4                      t    Cupertino, California, United States   \n",
       "\n",
       "  neighbourhood_cleansed  neighbourhood_group_cleansed  latitude  longitude  \\\n",
       "0            Santa Clara                           NaN  37.34342 -121.98829   \n",
       "1              Palo Alto                           NaN  37.44001 -122.15667   \n",
       "2              Palo Alto                           NaN  37.43925 -122.15617   \n",
       "3              Palo Alto                           NaN  37.44157 -122.15553   \n",
       "4              Cupertino                           NaN  37.32194 -122.00511   \n",
       "\n",
       "           property_type        room_type  accommodates  bathrooms  \\\n",
       "0       Entire apartment  Entire home/apt             1        NaN   \n",
       "1  Private room in villa     Private room             1        NaN   \n",
       "2  Private room in villa     Private room             2        NaN   \n",
       "3  Private room in villa     Private room             1        NaN   \n",
       "4      Entire guesthouse  Entire home/apt             4        NaN   \n",
       "\n",
       "   bathrooms_text  bedrooms  beds  \\\n",
       "0          1 bath       NaN   0.0   \n",
       "1  2 shared baths       1.0   1.0   \n",
       "2  2 shared baths       1.0   4.0   \n",
       "3  2 shared baths       1.0   1.0   \n",
       "4          1 bath       1.0   1.0   \n",
       "\n",
       "                                           amenities    price  minimum_nights  \\\n",
       "0  [\"Pool\", \"Fire extinguisher\", \"Hair dryer\", \"B...   $75.00              14   \n",
       "1  [\"Fire extinguisher\", \"Hair dryer\", \"Host gree...   $80.00               2   \n",
       "2  [\"Fire extinguisher\", \"Hair dryer\", \"Host gree...  $100.00               7   \n",
       "3  [\"Fire extinguisher\", \"Hair dryer\", \"Host gree...   $85.00               2   \n",
       "4  [\"Fire extinguisher\", \"Hair dryer\", \"High chai...  $189.00               3   \n",
       "\n",
       "   maximum_nights  minimum_minimum_nights  maximum_minimum_nights  \\\n",
       "0             365                    14.0                    14.0   \n",
       "1             730                     2.0                     2.0   \n",
       "2             730                     7.0                     7.0   \n",
       "3             365                     2.0                     2.0   \n",
       "4            1125                     3.0                     3.0   \n",
       "\n",
       "   minimum_maximum_nights  maximum_maximum_nights  minimum_nights_avg_ntm  \\\n",
       "0                   365.0                   365.0                    14.0   \n",
       "1                   730.0                   730.0                     2.0   \n",
       "2                  1125.0                  1125.0                     7.0   \n",
       "3                   365.0                   365.0                     2.0   \n",
       "4                  1125.0                  1125.0                     3.0   \n",
       "\n",
       "   maximum_nights_avg_ntm  calendar_updated has_availability  availability_30  \\\n",
       "0                   365.0               NaN                t                3   \n",
       "1                   730.0               NaN                t                0   \n",
       "2                  1125.0               NaN                t                0   \n",
       "3                   365.0               NaN                t                0   \n",
       "4                  1125.0               NaN                t               23   \n",
       "\n",
       "   availability_60  availability_90  availability_365 calendar_last_scraped  \\\n",
       "0               33               63               153            2020-10-25   \n",
       "1                0               22               297            2020-10-25   \n",
       "2                0               22               297            2020-10-25   \n",
       "3                0               22               297            2020-10-25   \n",
       "4               53               83               212            2020-10-25   \n",
       "\n",
       "   number_of_reviews  number_of_reviews_ltm  number_of_reviews_l30d  \\\n",
       "0                  6                      0                       0   \n",
       "1                264                     17                       0   \n",
       "2                148                     10                       0   \n",
       "3                206                     16                       0   \n",
       "4                179                      3                       0   \n",
       "\n",
       "  first_review last_review  review_scores_rating  review_scores_accuracy  \\\n",
       "0   2014-06-15  2019-10-11                  87.0                    10.0   \n",
       "1   2010-05-28  2020-03-14                  97.0                    10.0   \n",
       "2   2014-06-11  2020-03-18                  98.0                    10.0   \n",
       "3   2011-04-22  2020-03-16                  97.0                    10.0   \n",
       "4   2011-08-18  2020-05-31                  99.0                    10.0   \n",
       "\n",
       "   review_scores_cleanliness  review_scores_checkin  \\\n",
       "0                       10.0                   10.0   \n",
       "1                       10.0                   10.0   \n",
       "2                       10.0                   10.0   \n",
       "3                       10.0                   10.0   \n",
       "4                       10.0                   10.0   \n",
       "\n",
       "   review_scores_communication  review_scores_location  review_scores_value  \\\n",
       "0                          9.0                     9.0                  9.0   \n",
       "1                         10.0                    10.0                 10.0   \n",
       "2                         10.0                    10.0                  9.0   \n",
       "3                         10.0                    10.0                  9.0   \n",
       "4                         10.0                    10.0                 10.0   \n",
       "\n",
       "   license instant_bookable  calculated_host_listings_count  \\\n",
       "0      NaN                t                              14   \n",
       "1      NaN                f                               4   \n",
       "2      NaN                f                               4   \n",
       "3      NaN                f                               4   \n",
       "4      NaN                f                               1   \n",
       "\n",
       "   calculated_host_listings_count_entire_homes  \\\n",
       "0                                           14   \n",
       "1                                            0   \n",
       "2                                            0   \n",
       "3                                            0   \n",
       "4                                            1   \n",
       "\n",
       "   calculated_host_listings_count_private_rooms  \\\n",
       "0                                             0   \n",
       "1                                             4   \n",
       "2                                             4   \n",
       "3                                             4   \n",
       "4                                             0   \n",
       "\n",
       "   calculated_host_listings_count_shared_rooms  reviews_per_month  \n",
       "0                                            0               0.08  \n",
       "1                                            0               2.08  \n",
       "2                                            0               1.91  \n",
       "3                                            0               1.78  \n",
       "4                                            0               1.60  "
      ]
     },
     "execution_count": 2,
     "metadata": {},
     "output_type": "execute_result"
    }
   ],
   "source": [
    "listings = pd.read_csv('listings.csv')\n",
    "listings.head()"
   ]
  },
  {
   "cell_type": "markdown",
   "metadata": {},
   "source": [
    "I will check for any duplicate rows and any duplicates in the `id` column in particular, since each listing should only have one row of data."
   ]
  },
  {
   "cell_type": "code",
   "execution_count": 3,
   "metadata": {},
   "outputs": [
    {
     "data": {
      "text/plain": [
       "0"
      ]
     },
     "execution_count": 3,
     "metadata": {},
     "output_type": "execute_result"
    }
   ],
   "source": [
    "listings.duplicated().sum()"
   ]
  },
  {
   "cell_type": "code",
   "execution_count": 4,
   "metadata": {},
   "outputs": [
    {
     "data": {
      "text/plain": [
       "0"
      ]
     },
     "execution_count": 4,
     "metadata": {},
     "output_type": "execute_result"
    }
   ],
   "source": [
    "listings.duplicated(subset='id').sum()"
   ]
  },
  {
   "cell_type": "markdown",
   "metadata": {},
   "source": [
    "I will also use `info()` to see the dataframe's shape, each column's data type, and how many missing values each column has."
   ]
  },
  {
   "cell_type": "code",
   "execution_count": 5,
   "metadata": {},
   "outputs": [
    {
     "name": "stdout",
     "output_type": "stream",
     "text": [
      "<class 'pandas.core.frame.DataFrame'>\n",
      "RangeIndex: 5185 entries, 0 to 5184\n",
      "Data columns (total 74 columns):\n",
      " #   Column                                        Non-Null Count  Dtype  \n",
      "---  ------                                        --------------  -----  \n",
      " 0   id                                            5185 non-null   int64  \n",
      " 1   listing_url                                   5185 non-null   object \n",
      " 2   scrape_id                                     5185 non-null   int64  \n",
      " 3   last_scraped                                  5185 non-null   object \n",
      " 4   name                                          5184 non-null   object \n",
      " 5   description                                   5030 non-null   object \n",
      " 6   neighborhood_overview                         3218 non-null   object \n",
      " 7   picture_url                                   5185 non-null   object \n",
      " 8   host_id                                       5185 non-null   int64  \n",
      " 9   host_url                                      5185 non-null   object \n",
      " 10  host_name                                     5185 non-null   object \n",
      " 11  host_since                                    5185 non-null   object \n",
      " 12  host_location                                 5172 non-null   object \n",
      " 13  host_about                                    3425 non-null   object \n",
      " 14  host_response_time                            4167 non-null   object \n",
      " 15  host_response_rate                            4167 non-null   object \n",
      " 16  host_acceptance_rate                          4559 non-null   object \n",
      " 17  host_is_superhost                             5185 non-null   object \n",
      " 18  host_thumbnail_url                            5185 non-null   object \n",
      " 19  host_picture_url                              5185 non-null   object \n",
      " 20  host_neighbourhood                            4349 non-null   object \n",
      " 21  host_listings_count                           5185 non-null   int64  \n",
      " 22  host_total_listings_count                     5185 non-null   int64  \n",
      " 23  host_verifications                            5185 non-null   object \n",
      " 24  host_has_profile_pic                          5185 non-null   object \n",
      " 25  host_identity_verified                        5185 non-null   object \n",
      " 26  neighbourhood                                 3218 non-null   object \n",
      " 27  neighbourhood_cleansed                        5185 non-null   object \n",
      " 28  neighbourhood_group_cleansed                  0 non-null      float64\n",
      " 29  latitude                                      5185 non-null   float64\n",
      " 30  longitude                                     5185 non-null   float64\n",
      " 31  property_type                                 5185 non-null   object \n",
      " 32  room_type                                     5185 non-null   object \n",
      " 33  accommodates                                  5185 non-null   int64  \n",
      " 34  bathrooms                                     0 non-null      float64\n",
      " 35  bathrooms_text                                5179 non-null   object \n",
      " 36  bedrooms                                      4879 non-null   float64\n",
      " 37  beds                                          5132 non-null   float64\n",
      " 38  amenities                                     5185 non-null   object \n",
      " 39  price                                         5185 non-null   object \n",
      " 40  minimum_nights                                5185 non-null   int64  \n",
      " 41  maximum_nights                                5185 non-null   int64  \n",
      " 42  minimum_minimum_nights                        5184 non-null   float64\n",
      " 43  maximum_minimum_nights                        5184 non-null   float64\n",
      " 44  minimum_maximum_nights                        5184 non-null   float64\n",
      " 45  maximum_maximum_nights                        5184 non-null   float64\n",
      " 46  minimum_nights_avg_ntm                        5184 non-null   float64\n",
      " 47  maximum_nights_avg_ntm                        5184 non-null   float64\n",
      " 48  calendar_updated                              0 non-null      float64\n",
      " 49  has_availability                              5185 non-null   object \n",
      " 50  availability_30                               5185 non-null   int64  \n",
      " 51  availability_60                               5185 non-null   int64  \n",
      " 52  availability_90                               5185 non-null   int64  \n",
      " 53  availability_365                              5185 non-null   int64  \n",
      " 54  calendar_last_scraped                         5185 non-null   object \n",
      " 55  number_of_reviews                             5185 non-null   int64  \n",
      " 56  number_of_reviews_ltm                         5185 non-null   int64  \n",
      " 57  number_of_reviews_l30d                        5185 non-null   int64  \n",
      " 58  first_review                                  4113 non-null   object \n",
      " 59  last_review                                   4113 non-null   object \n",
      " 60  review_scores_rating                          4075 non-null   float64\n",
      " 61  review_scores_accuracy                        4073 non-null   float64\n",
      " 62  review_scores_cleanliness                     4073 non-null   float64\n",
      " 63  review_scores_checkin                         4072 non-null   float64\n",
      " 64  review_scores_communication                   4073 non-null   float64\n",
      " 65  review_scores_location                        4072 non-null   float64\n",
      " 66  review_scores_value                           4072 non-null   float64\n",
      " 67  license                                       0 non-null      float64\n",
      " 68  instant_bookable                              5185 non-null   object \n",
      " 69  calculated_host_listings_count                5185 non-null   int64  \n",
      " 70  calculated_host_listings_count_entire_homes   5185 non-null   int64  \n",
      " 71  calculated_host_listings_count_private_rooms  5185 non-null   int64  \n",
      " 72  calculated_host_listings_count_shared_rooms   5185 non-null   int64  \n",
      " 73  reviews_per_month                             4113 non-null   float64\n",
      "dtypes: float64(22), int64(19), object(33)\n",
      "memory usage: 2.9+ MB\n"
     ]
    }
   ],
   "source": [
    "listings.info()"
   ]
  },
  {
   "cell_type": "markdown",
   "metadata": {},
   "source": [
    "Based on the above information, here are the necessary data wrangling steps:\n",
    "\n",
    "- Drop the following columns with all missing values: `neighbourhood_group_cleansed`, `bathrooms`, `calendar_updated`, and `license`\n",
    "- Convert the following columns to the datetime data type: `last_scraped`, `host_since`, `calendar_last_scraped`, `first_review`, and `last_review`\n",
    "- Convert the following columns to the boolean data type: `host_is_superhost`, `host_has_profile_pic`, `host_identity_verified`,  `has_availability`, and  `instant_bookable`\n",
    "- Convert the following columns to the float data type: `host_response_rate`, `host_acceptance_rate`, and `price`\n",
    "- Extract number and type of bathrooms from `bathrooms_text`\n",
    "- Convert each row in the following columns to lists: `host_verifications` and `amenities`\n",
    "- Examine columns with missing values to see if any of them need imputed values\n",
    "\n",
    "<a id='prepare'></a>\n",
    "## Prepare Data\n",
    "\n",
    "First I will drop columns that have all missing values, as these will not be useful for my analysis. I will also convert all date-related columns to the datetime data type."
   ]
  },
  {
   "cell_type": "code",
   "execution_count": 6,
   "metadata": {},
   "outputs": [],
   "source": [
    "listings.drop(['neighbourhood_group_cleansed', 'bathrooms', 'calendar_updated', 'license'], axis=1, inplace=True)"
   ]
  },
  {
   "cell_type": "code",
   "execution_count": 7,
   "metadata": {},
   "outputs": [],
   "source": [
    "listings_datetime = ['last_scraped', 'host_since', 'calendar_last_scraped', 'first_review', 'last_review']\n",
    "for col in listings_datetime:\n",
    "    listings[col] = pd.to_datetime(listings[col])"
   ]
  },
  {
   "cell_type": "markdown",
   "metadata": {},
   "source": [
    "When looking at the data in the previous section, I noticed that all true/false columns were marked with the string `t` or `f`, rather than having the boolean data type. I will use a lambda function to convert all `t` to `True` and all `f` to `False`."
   ]
  },
  {
   "cell_type": "code",
   "execution_count": 8,
   "metadata": {},
   "outputs": [],
   "source": [
    "listings_bool = [\n",
    "    'host_is_superhost',\n",
    "    'host_has_profile_pic',\n",
    "    'host_identity_verified',\n",
    "    'has_availability',\n",
    "    'instant_bookable'\n",
    "]\n",
    "for col in listings_bool:\n",
    "    listings[col] = listings[col].apply(lambda x: x=='t')"
   ]
  },
  {
   "cell_type": "markdown",
   "metadata": {},
   "source": [
    "Now I need to convert a few columns to the float data type. The `price` column currently has strings that contain `$` and sometimes `,` for prices in the thousands. I will create a function to remove these two characters and then convert the values to float."
   ]
  },
  {
   "cell_type": "code",
   "execution_count": 9,
   "metadata": {},
   "outputs": [],
   "source": [
    "def convert_currency(currency_string):\n",
    "    '''\n",
    "    INPUT:\n",
    "    currency_string (str) - currency string to convert\n",
    "    \n",
    "    OUTPUT\n",
    "    currency_float (float) - currency as the float data type\n",
    "    \n",
    "    Remove ',' and '$', then convert currency in string form into the float data type.\n",
    "    '''\n",
    "    \n",
    "    currency_float = currency_string.replace('$', '').replace(',', '')\n",
    "    currency_float = pd.to_numeric(currency_float)\n",
    "    return currency_float"
   ]
  },
  {
   "cell_type": "code",
   "execution_count": 10,
   "metadata": {},
   "outputs": [],
   "source": [
    "listings['price'] = listings['price'].apply(convert_currency)"
   ]
  },
  {
   "cell_type": "markdown",
   "metadata": {},
   "source": [
    "The `host_reponse_rate` and `host_acceptance_rate` both have strings contain the character `%`. I will create a function to remove this character, then divide the resulting value by 100 to convert percentages to decimals."
   ]
  },
  {
   "cell_type": "code",
   "execution_count": 11,
   "metadata": {},
   "outputs": [],
   "source": [
    "def convert_percentage(percent_string):\n",
    "    '''\n",
    "    INPUT:\n",
    "    percent_string (str) - percentage string to convert\n",
    "    \n",
    "    OUTPUT:\n",
    "    percent_float (float) - percentage as the float data type\n",
    "    \n",
    "    Remove '%', convert the percentage in string form into the float data type, and then divide by 100.\n",
    "    '''\n",
    "    \n",
    "    try:\n",
    "        percent_float = percent_string.replace('%', '')\n",
    "        percent_float = pd.to_numeric(percent_float)/100.\n",
    "    except:\n",
    "        percent_float = np.nan\n",
    "    return percent_float"
   ]
  },
  {
   "cell_type": "code",
   "execution_count": 12,
   "metadata": {},
   "outputs": [],
   "source": [
    "listings['host_response_rate'] = listings['host_response_rate'].apply(convert_percentage)\n",
    "listings['host_acceptance_rate'] = listings['host_acceptance_rate'].apply(convert_percentage)"
   ]
  },
  {
   "cell_type": "markdown",
   "metadata": {},
   "source": [
    "Now I want to extract the number and type of bathrooms from the `bathrooms_text` column, since I think these two features will be better in the describing a listing's bathroom situation. I will first look at the unique values in the `bathrooms_text` column to see what wrangling I might need to do."
   ]
  },
  {
   "cell_type": "code",
   "execution_count": 13,
   "metadata": {},
   "outputs": [
    {
     "data": {
      "text/plain": [
       "array(['1 bath', '2 shared baths', '1 private bath', 'Half-bath',\n",
       "       '1 shared bath', '1.5 baths', '0 baths', '2.5 baths',\n",
       "       '1.5 shared baths', '0 shared baths', '4.5 baths', '2 baths',\n",
       "       '3 baths', nan, '3 shared baths', '3.5 baths', '2.5 shared baths',\n",
       "       '4 baths', 'Shared half-bath', '4 shared baths', '6 baths',\n",
       "       '5 baths', '6.5 baths', '3.5 shared baths', '8 baths', '5.5 baths'],\n",
       "      dtype=object)"
      ]
     },
     "execution_count": 13,
     "metadata": {},
     "output_type": "execute_result"
    }
   ],
   "source": [
    "listings['bathrooms_text'].unique()"
   ]
  },
  {
   "cell_type": "markdown",
   "metadata": {},
   "source": [
    "It looks like most of the values have a number in the description, except for half-baths. I will replace these values with 0.5, and then use regex to extract the number of bathrooms."
   ]
  },
  {
   "cell_type": "code",
   "execution_count": 14,
   "metadata": {},
   "outputs": [],
   "source": [
    "# Replace 'half' with 0.5 so that the number can be extracted\n",
    "listings['bathrooms'] = listings['bathrooms_text'].str.replace(r'[Hhalf]-', '0.5 ')\n",
    "listings['bathrooms'] = listings['bathrooms'].str.extract(r'(\\d\\.?\\d?)')\n",
    "listings['bathrooms'] = listings['bathrooms'].astype(float)"
   ]
  },
  {
   "cell_type": "markdown",
   "metadata": {},
   "source": [
    "I also want a column that describes whether the bathrooms are shared or private. If the description mentions that the bathrooms are shared, then I will classify the bathrooms as so, otherwise I will assume that they are private."
   ]
  },
  {
   "cell_type": "code",
   "execution_count": 15,
   "metadata": {},
   "outputs": [],
   "source": [
    "def extract_baths_type(baths_string):\n",
    "    '''\n",
    "    INPUT:\n",
    "    baths_string (str) - full bathroom description\n",
    "    \n",
    "    OUTPUT:\n",
    "    baths_type - type of bathroom, if applicable, either 'Shared' or 'Private'\n",
    "    \n",
    "    Extract the bathroom type from descriptive text.\n",
    "    '''\n",
    "    \n",
    "    try:\n",
    "        if re.search(r'[Ss]hared', baths_string):\n",
    "            baths_type = 'Shared'\n",
    "        elif re.search(r'bath', baths_string):\n",
    "            baths_type = 'Private'\n",
    "    except:\n",
    "        baths_type = np.nan\n",
    "    return baths_type"
   ]
  },
  {
   "cell_type": "code",
   "execution_count": 16,
   "metadata": {},
   "outputs": [],
   "source": [
    "listings['bathrooms_type'] = listings['bathrooms_text'].apply(extract_baths_type)"
   ]
  },
  {
   "cell_type": "markdown",
   "metadata": {},
   "source": [
    "The `host_verifications` and `amenities` columns are currently strings but contain lists. I will convert both of these columns so that they contain lists in each row."
   ]
  },
  {
   "cell_type": "code",
   "execution_count": 17,
   "metadata": {},
   "outputs": [],
   "source": [
    "listings['host_verifications'] = listings['host_verifications'].apply(eval)\n",
    "listings['amenities'] = listings['amenities'].apply(eval)"
   ]
  },
  {
   "cell_type": "markdown",
   "metadata": {},
   "source": [
    "After all of the above wrangling, I will now take a look at the dataframe to see if any more cleaning needs to be done, particularly in regards to missing values."
   ]
  },
  {
   "cell_type": "code",
   "execution_count": 18,
   "metadata": {
    "scrolled": false
   },
   "outputs": [
    {
     "data": {
      "text/html": [
       "<div>\n",
       "<style scoped>\n",
       "    .dataframe tbody tr th:only-of-type {\n",
       "        vertical-align: middle;\n",
       "    }\n",
       "\n",
       "    .dataframe tbody tr th {\n",
       "        vertical-align: top;\n",
       "    }\n",
       "\n",
       "    .dataframe thead th {\n",
       "        text-align: right;\n",
       "    }\n",
       "</style>\n",
       "<table border=\"1\" class=\"dataframe\">\n",
       "  <thead>\n",
       "    <tr style=\"text-align: right;\">\n",
       "      <th></th>\n",
       "      <th>id</th>\n",
       "      <th>listing_url</th>\n",
       "      <th>scrape_id</th>\n",
       "      <th>last_scraped</th>\n",
       "      <th>name</th>\n",
       "      <th>description</th>\n",
       "      <th>neighborhood_overview</th>\n",
       "      <th>picture_url</th>\n",
       "      <th>host_id</th>\n",
       "      <th>host_url</th>\n",
       "      <th>host_name</th>\n",
       "      <th>host_since</th>\n",
       "      <th>host_location</th>\n",
       "      <th>host_about</th>\n",
       "      <th>host_response_time</th>\n",
       "      <th>host_response_rate</th>\n",
       "      <th>host_acceptance_rate</th>\n",
       "      <th>host_is_superhost</th>\n",
       "      <th>host_thumbnail_url</th>\n",
       "      <th>host_picture_url</th>\n",
       "      <th>host_neighbourhood</th>\n",
       "      <th>host_listings_count</th>\n",
       "      <th>host_total_listings_count</th>\n",
       "      <th>host_verifications</th>\n",
       "      <th>host_has_profile_pic</th>\n",
       "      <th>host_identity_verified</th>\n",
       "      <th>neighbourhood</th>\n",
       "      <th>neighbourhood_cleansed</th>\n",
       "      <th>latitude</th>\n",
       "      <th>longitude</th>\n",
       "      <th>property_type</th>\n",
       "      <th>room_type</th>\n",
       "      <th>accommodates</th>\n",
       "      <th>bathrooms_text</th>\n",
       "      <th>bedrooms</th>\n",
       "      <th>beds</th>\n",
       "      <th>amenities</th>\n",
       "      <th>price</th>\n",
       "      <th>minimum_nights</th>\n",
       "      <th>maximum_nights</th>\n",
       "      <th>minimum_minimum_nights</th>\n",
       "      <th>maximum_minimum_nights</th>\n",
       "      <th>minimum_maximum_nights</th>\n",
       "      <th>maximum_maximum_nights</th>\n",
       "      <th>minimum_nights_avg_ntm</th>\n",
       "      <th>maximum_nights_avg_ntm</th>\n",
       "      <th>has_availability</th>\n",
       "      <th>availability_30</th>\n",
       "      <th>availability_60</th>\n",
       "      <th>availability_90</th>\n",
       "      <th>availability_365</th>\n",
       "      <th>calendar_last_scraped</th>\n",
       "      <th>number_of_reviews</th>\n",
       "      <th>number_of_reviews_ltm</th>\n",
       "      <th>number_of_reviews_l30d</th>\n",
       "      <th>first_review</th>\n",
       "      <th>last_review</th>\n",
       "      <th>review_scores_rating</th>\n",
       "      <th>review_scores_accuracy</th>\n",
       "      <th>review_scores_cleanliness</th>\n",
       "      <th>review_scores_checkin</th>\n",
       "      <th>review_scores_communication</th>\n",
       "      <th>review_scores_location</th>\n",
       "      <th>review_scores_value</th>\n",
       "      <th>instant_bookable</th>\n",
       "      <th>calculated_host_listings_count</th>\n",
       "      <th>calculated_host_listings_count_entire_homes</th>\n",
       "      <th>calculated_host_listings_count_private_rooms</th>\n",
       "      <th>calculated_host_listings_count_shared_rooms</th>\n",
       "      <th>reviews_per_month</th>\n",
       "      <th>bathrooms</th>\n",
       "      <th>bathrooms_type</th>\n",
       "    </tr>\n",
       "  </thead>\n",
       "  <tbody>\n",
       "    <tr>\n",
       "      <th>0</th>\n",
       "      <td>11464</td>\n",
       "      <td>https://www.airbnb.com/rooms/11464</td>\n",
       "      <td>20201025134943</td>\n",
       "      <td>2020-10-25</td>\n",
       "      <td>Deluxe Studio 5 min.  to SC Kaiser &amp; Apple Park</td>\n",
       "      <td>Custom built Studio with exquisite design. Rea...</td>\n",
       "      <td>10 min. to Lucky's and Starbucks at El Camino ...</td>\n",
       "      <td>https://a0.muscache.com/pictures/121321/2c5a5a...</td>\n",
       "      <td>42458</td>\n",
       "      <td>https://www.airbnb.com/users/show/42458</td>\n",
       "      <td>Emey</td>\n",
       "      <td>2009-09-30</td>\n",
       "      <td>Mountain View, California, United States</td>\n",
       "      <td>I pride myself on attention to details and cus...</td>\n",
       "      <td>within an hour</td>\n",
       "      <td>1.0</td>\n",
       "      <td>0.91</td>\n",
       "      <td>False</td>\n",
       "      <td>https://a0.muscache.com/im/users/42458/profile...</td>\n",
       "      <td>https://a0.muscache.com/im/users/42458/profile...</td>\n",
       "      <td>Santa Clara</td>\n",
       "      <td>15</td>\n",
       "      <td>15</td>\n",
       "      <td>[email, phone, reviews]</td>\n",
       "      <td>True</td>\n",
       "      <td>False</td>\n",
       "      <td>Santa Clara, California, United States</td>\n",
       "      <td>Santa Clara</td>\n",
       "      <td>37.34342</td>\n",
       "      <td>-121.98829</td>\n",
       "      <td>Entire apartment</td>\n",
       "      <td>Entire home/apt</td>\n",
       "      <td>1</td>\n",
       "      <td>1 bath</td>\n",
       "      <td>NaN</td>\n",
       "      <td>0.0</td>\n",
       "      <td>[Pool, Fire extinguisher, Hair dryer, Building...</td>\n",
       "      <td>75.0</td>\n",
       "      <td>14</td>\n",
       "      <td>365</td>\n",
       "      <td>14.0</td>\n",
       "      <td>14.0</td>\n",
       "      <td>365.0</td>\n",
       "      <td>365.0</td>\n",
       "      <td>14.0</td>\n",
       "      <td>365.0</td>\n",
       "      <td>True</td>\n",
       "      <td>3</td>\n",
       "      <td>33</td>\n",
       "      <td>63</td>\n",
       "      <td>153</td>\n",
       "      <td>2020-10-25</td>\n",
       "      <td>6</td>\n",
       "      <td>0</td>\n",
       "      <td>0</td>\n",
       "      <td>2014-06-15</td>\n",
       "      <td>2019-10-11</td>\n",
       "      <td>87.0</td>\n",
       "      <td>10.0</td>\n",
       "      <td>10.0</td>\n",
       "      <td>10.0</td>\n",
       "      <td>9.0</td>\n",
       "      <td>9.0</td>\n",
       "      <td>9.0</td>\n",
       "      <td>True</td>\n",
       "      <td>14</td>\n",
       "      <td>14</td>\n",
       "      <td>0</td>\n",
       "      <td>0</td>\n",
       "      <td>0.08</td>\n",
       "      <td>1.0</td>\n",
       "      <td>Private</td>\n",
       "    </tr>\n",
       "    <tr>\n",
       "      <th>1</th>\n",
       "      <td>21373</td>\n",
       "      <td>https://www.airbnb.com/rooms/21373</td>\n",
       "      <td>20201025134943</td>\n",
       "      <td>2020-10-25</td>\n",
       "      <td>Bonsai Garden Inn in Professorville</td>\n",
       "      <td>Room  in gracious home with beautiful garden. ...</td>\n",
       "      <td>This room is in an ultra convenient location i...</td>\n",
       "      <td>https://a0.muscache.com/pictures/527285/0f9d08...</td>\n",
       "      <td>7054</td>\n",
       "      <td>https://www.airbnb.com/users/show/7054</td>\n",
       "      <td>Mei Lin</td>\n",
       "      <td>2009-01-24</td>\n",
       "      <td>Palo Alto, California, United States</td>\n",
       "      <td>I have lived and worked in Asia, Europe, Austr...</td>\n",
       "      <td>NaN</td>\n",
       "      <td>NaN</td>\n",
       "      <td>0.97</td>\n",
       "      <td>True</td>\n",
       "      <td>https://a0.muscache.com/im/users/7054/profile_...</td>\n",
       "      <td>https://a0.muscache.com/im/users/7054/profile_...</td>\n",
       "      <td>Palo Alto</td>\n",
       "      <td>5</td>\n",
       "      <td>5</td>\n",
       "      <td>[email, phone, reviews, jumio, offline_governm...</td>\n",
       "      <td>True</td>\n",
       "      <td>True</td>\n",
       "      <td>Palo Alto, California, United States</td>\n",
       "      <td>Palo Alto</td>\n",
       "      <td>37.44001</td>\n",
       "      <td>-122.15667</td>\n",
       "      <td>Private room in villa</td>\n",
       "      <td>Private room</td>\n",
       "      <td>1</td>\n",
       "      <td>2 shared baths</td>\n",
       "      <td>1.0</td>\n",
       "      <td>1.0</td>\n",
       "      <td>[Fire extinguisher, Hair dryer, Host greets yo...</td>\n",
       "      <td>80.0</td>\n",
       "      <td>2</td>\n",
       "      <td>730</td>\n",
       "      <td>2.0</td>\n",
       "      <td>2.0</td>\n",
       "      <td>730.0</td>\n",
       "      <td>730.0</td>\n",
       "      <td>2.0</td>\n",
       "      <td>730.0</td>\n",
       "      <td>True</td>\n",
       "      <td>0</td>\n",
       "      <td>0</td>\n",
       "      <td>22</td>\n",
       "      <td>297</td>\n",
       "      <td>2020-10-25</td>\n",
       "      <td>264</td>\n",
       "      <td>17</td>\n",
       "      <td>0</td>\n",
       "      <td>2010-05-28</td>\n",
       "      <td>2020-03-14</td>\n",
       "      <td>97.0</td>\n",
       "      <td>10.0</td>\n",
       "      <td>10.0</td>\n",
       "      <td>10.0</td>\n",
       "      <td>10.0</td>\n",
       "      <td>10.0</td>\n",
       "      <td>10.0</td>\n",
       "      <td>False</td>\n",
       "      <td>4</td>\n",
       "      <td>0</td>\n",
       "      <td>4</td>\n",
       "      <td>0</td>\n",
       "      <td>2.08</td>\n",
       "      <td>2.0</td>\n",
       "      <td>Shared</td>\n",
       "    </tr>\n",
       "    <tr>\n",
       "      <th>2</th>\n",
       "      <td>62799</td>\n",
       "      <td>https://www.airbnb.com/rooms/62799</td>\n",
       "      <td>20201025134943</td>\n",
       "      <td>2020-10-25</td>\n",
       "      <td>Zen Office and Sofa in Palo Alto</td>\n",
       "      <td>Spacious book filled room, standing desk, bed ...</td>\n",
       "      <td>We are in Professorville, the most desirable a...</td>\n",
       "      <td>https://a0.muscache.com/pictures/56831077/4070...</td>\n",
       "      <td>7054</td>\n",
       "      <td>https://www.airbnb.com/users/show/7054</td>\n",
       "      <td>Mei Lin</td>\n",
       "      <td>2009-01-24</td>\n",
       "      <td>Palo Alto, California, United States</td>\n",
       "      <td>I have lived and worked in Asia, Europe, Austr...</td>\n",
       "      <td>NaN</td>\n",
       "      <td>NaN</td>\n",
       "      <td>0.97</td>\n",
       "      <td>True</td>\n",
       "      <td>https://a0.muscache.com/im/users/7054/profile_...</td>\n",
       "      <td>https://a0.muscache.com/im/users/7054/profile_...</td>\n",
       "      <td>Palo Alto</td>\n",
       "      <td>5</td>\n",
       "      <td>5</td>\n",
       "      <td>[email, phone, reviews, jumio, offline_governm...</td>\n",
       "      <td>True</td>\n",
       "      <td>True</td>\n",
       "      <td>Palo Alto, California, United States</td>\n",
       "      <td>Palo Alto</td>\n",
       "      <td>37.43925</td>\n",
       "      <td>-122.15617</td>\n",
       "      <td>Private room in villa</td>\n",
       "      <td>Private room</td>\n",
       "      <td>2</td>\n",
       "      <td>2 shared baths</td>\n",
       "      <td>1.0</td>\n",
       "      <td>4.0</td>\n",
       "      <td>[Fire extinguisher, Hair dryer, Host greets yo...</td>\n",
       "      <td>100.0</td>\n",
       "      <td>7</td>\n",
       "      <td>730</td>\n",
       "      <td>7.0</td>\n",
       "      <td>7.0</td>\n",
       "      <td>1125.0</td>\n",
       "      <td>1125.0</td>\n",
       "      <td>7.0</td>\n",
       "      <td>1125.0</td>\n",
       "      <td>True</td>\n",
       "      <td>0</td>\n",
       "      <td>0</td>\n",
       "      <td>22</td>\n",
       "      <td>297</td>\n",
       "      <td>2020-10-25</td>\n",
       "      <td>148</td>\n",
       "      <td>10</td>\n",
       "      <td>0</td>\n",
       "      <td>2014-06-11</td>\n",
       "      <td>2020-03-18</td>\n",
       "      <td>98.0</td>\n",
       "      <td>10.0</td>\n",
       "      <td>10.0</td>\n",
       "      <td>10.0</td>\n",
       "      <td>10.0</td>\n",
       "      <td>10.0</td>\n",
       "      <td>9.0</td>\n",
       "      <td>False</td>\n",
       "      <td>4</td>\n",
       "      <td>0</td>\n",
       "      <td>4</td>\n",
       "      <td>0</td>\n",
       "      <td>1.91</td>\n",
       "      <td>2.0</td>\n",
       "      <td>Shared</td>\n",
       "    </tr>\n",
       "    <tr>\n",
       "      <th>3</th>\n",
       "      <td>75284</td>\n",
       "      <td>https://www.airbnb.com/rooms/75284</td>\n",
       "      <td>20201025134943</td>\n",
       "      <td>2020-10-25</td>\n",
       "      <td>Garden Room Oasis Walk to Stanford</td>\n",
       "      <td>Room in gracious home with beautiful garden. L...</td>\n",
       "      <td>Live in the heart of the heart of Silicon Vall...</td>\n",
       "      <td>https://a0.muscache.com/pictures/647913/97373a...</td>\n",
       "      <td>7054</td>\n",
       "      <td>https://www.airbnb.com/users/show/7054</td>\n",
       "      <td>Mei Lin</td>\n",
       "      <td>2009-01-24</td>\n",
       "      <td>Palo Alto, California, United States</td>\n",
       "      <td>I have lived and worked in Asia, Europe, Austr...</td>\n",
       "      <td>NaN</td>\n",
       "      <td>NaN</td>\n",
       "      <td>0.97</td>\n",
       "      <td>True</td>\n",
       "      <td>https://a0.muscache.com/im/users/7054/profile_...</td>\n",
       "      <td>https://a0.muscache.com/im/users/7054/profile_...</td>\n",
       "      <td>Palo Alto</td>\n",
       "      <td>5</td>\n",
       "      <td>5</td>\n",
       "      <td>[email, phone, reviews, jumio, offline_governm...</td>\n",
       "      <td>True</td>\n",
       "      <td>True</td>\n",
       "      <td>Palo Alto, California, United States</td>\n",
       "      <td>Palo Alto</td>\n",
       "      <td>37.44157</td>\n",
       "      <td>-122.15553</td>\n",
       "      <td>Private room in villa</td>\n",
       "      <td>Private room</td>\n",
       "      <td>1</td>\n",
       "      <td>2 shared baths</td>\n",
       "      <td>1.0</td>\n",
       "      <td>1.0</td>\n",
       "      <td>[Fire extinguisher, Hair dryer, Host greets yo...</td>\n",
       "      <td>85.0</td>\n",
       "      <td>2</td>\n",
       "      <td>365</td>\n",
       "      <td>2.0</td>\n",
       "      <td>2.0</td>\n",
       "      <td>365.0</td>\n",
       "      <td>365.0</td>\n",
       "      <td>2.0</td>\n",
       "      <td>365.0</td>\n",
       "      <td>True</td>\n",
       "      <td>0</td>\n",
       "      <td>0</td>\n",
       "      <td>22</td>\n",
       "      <td>297</td>\n",
       "      <td>2020-10-25</td>\n",
       "      <td>206</td>\n",
       "      <td>16</td>\n",
       "      <td>0</td>\n",
       "      <td>2011-04-22</td>\n",
       "      <td>2020-03-16</td>\n",
       "      <td>97.0</td>\n",
       "      <td>10.0</td>\n",
       "      <td>10.0</td>\n",
       "      <td>10.0</td>\n",
       "      <td>10.0</td>\n",
       "      <td>10.0</td>\n",
       "      <td>9.0</td>\n",
       "      <td>False</td>\n",
       "      <td>4</td>\n",
       "      <td>0</td>\n",
       "      <td>4</td>\n",
       "      <td>0</td>\n",
       "      <td>1.78</td>\n",
       "      <td>2.0</td>\n",
       "      <td>Shared</td>\n",
       "    </tr>\n",
       "    <tr>\n",
       "      <th>4</th>\n",
       "      <td>106365</td>\n",
       "      <td>https://www.airbnb.com/rooms/106365</td>\n",
       "      <td>20201025134943</td>\n",
       "      <td>2020-10-25</td>\n",
       "      <td>Luxurious &amp; Quiet Home near Main St, Cupertino</td>\n",
       "      <td>LUXURIOUS APT IN QUIET NEIGHBORHOOD–Beautiful ...</td>\n",
       "      <td>Quiet and private space with a year around edi...</td>\n",
       "      <td>https://a0.muscache.com/pictures/36cbb3c4-f59f...</td>\n",
       "      <td>551319</td>\n",
       "      <td>https://www.airbnb.com/users/show/551319</td>\n",
       "      <td>Judith</td>\n",
       "      <td>2011-05-02</td>\n",
       "      <td>Cupertino, California, United States</td>\n",
       "      <td>My husband and I have lived in Cupertino for o...</td>\n",
       "      <td>within an hour</td>\n",
       "      <td>1.0</td>\n",
       "      <td>0.83</td>\n",
       "      <td>True</td>\n",
       "      <td>https://a0.muscache.com/im/pictures/user/77656...</td>\n",
       "      <td>https://a0.muscache.com/im/pictures/user/77656...</td>\n",
       "      <td>Cupertino</td>\n",
       "      <td>1</td>\n",
       "      <td>1</td>\n",
       "      <td>[email, phone, facebook, reviews, kba, work_em...</td>\n",
       "      <td>True</td>\n",
       "      <td>True</td>\n",
       "      <td>Cupertino, California, United States</td>\n",
       "      <td>Cupertino</td>\n",
       "      <td>37.32194</td>\n",
       "      <td>-122.00511</td>\n",
       "      <td>Entire guesthouse</td>\n",
       "      <td>Entire home/apt</td>\n",
       "      <td>4</td>\n",
       "      <td>1 bath</td>\n",
       "      <td>1.0</td>\n",
       "      <td>1.0</td>\n",
       "      <td>[Fire extinguisher, Hair dryer, High chair, Si...</td>\n",
       "      <td>189.0</td>\n",
       "      <td>3</td>\n",
       "      <td>1125</td>\n",
       "      <td>3.0</td>\n",
       "      <td>3.0</td>\n",
       "      <td>1125.0</td>\n",
       "      <td>1125.0</td>\n",
       "      <td>3.0</td>\n",
       "      <td>1125.0</td>\n",
       "      <td>True</td>\n",
       "      <td>23</td>\n",
       "      <td>53</td>\n",
       "      <td>83</td>\n",
       "      <td>212</td>\n",
       "      <td>2020-10-25</td>\n",
       "      <td>179</td>\n",
       "      <td>3</td>\n",
       "      <td>0</td>\n",
       "      <td>2011-08-18</td>\n",
       "      <td>2020-05-31</td>\n",
       "      <td>99.0</td>\n",
       "      <td>10.0</td>\n",
       "      <td>10.0</td>\n",
       "      <td>10.0</td>\n",
       "      <td>10.0</td>\n",
       "      <td>10.0</td>\n",
       "      <td>10.0</td>\n",
       "      <td>False</td>\n",
       "      <td>1</td>\n",
       "      <td>1</td>\n",
       "      <td>0</td>\n",
       "      <td>0</td>\n",
       "      <td>1.60</td>\n",
       "      <td>1.0</td>\n",
       "      <td>Private</td>\n",
       "    </tr>\n",
       "  </tbody>\n",
       "</table>\n",
       "</div>"
      ],
      "text/plain": [
       "       id                          listing_url       scrape_id last_scraped  \\\n",
       "0   11464   https://www.airbnb.com/rooms/11464  20201025134943   2020-10-25   \n",
       "1   21373   https://www.airbnb.com/rooms/21373  20201025134943   2020-10-25   \n",
       "2   62799   https://www.airbnb.com/rooms/62799  20201025134943   2020-10-25   \n",
       "3   75284   https://www.airbnb.com/rooms/75284  20201025134943   2020-10-25   \n",
       "4  106365  https://www.airbnb.com/rooms/106365  20201025134943   2020-10-25   \n",
       "\n",
       "                                              name  \\\n",
       "0  Deluxe Studio 5 min.  to SC Kaiser & Apple Park   \n",
       "1              Bonsai Garden Inn in Professorville   \n",
       "2                 Zen Office and Sofa in Palo Alto   \n",
       "3               Garden Room Oasis Walk to Stanford   \n",
       "4   Luxurious & Quiet Home near Main St, Cupertino   \n",
       "\n",
       "                                         description  \\\n",
       "0  Custom built Studio with exquisite design. Rea...   \n",
       "1  Room  in gracious home with beautiful garden. ...   \n",
       "2  Spacious book filled room, standing desk, bed ...   \n",
       "3  Room in gracious home with beautiful garden. L...   \n",
       "4  LUXURIOUS APT IN QUIET NEIGHBORHOOD–Beautiful ...   \n",
       "\n",
       "                               neighborhood_overview  \\\n",
       "0  10 min. to Lucky's and Starbucks at El Camino ...   \n",
       "1  This room is in an ultra convenient location i...   \n",
       "2  We are in Professorville, the most desirable a...   \n",
       "3  Live in the heart of the heart of Silicon Vall...   \n",
       "4  Quiet and private space with a year around edi...   \n",
       "\n",
       "                                         picture_url  host_id  \\\n",
       "0  https://a0.muscache.com/pictures/121321/2c5a5a...    42458   \n",
       "1  https://a0.muscache.com/pictures/527285/0f9d08...     7054   \n",
       "2  https://a0.muscache.com/pictures/56831077/4070...     7054   \n",
       "3  https://a0.muscache.com/pictures/647913/97373a...     7054   \n",
       "4  https://a0.muscache.com/pictures/36cbb3c4-f59f...   551319   \n",
       "\n",
       "                                   host_url host_name host_since  \\\n",
       "0   https://www.airbnb.com/users/show/42458      Emey 2009-09-30   \n",
       "1    https://www.airbnb.com/users/show/7054   Mei Lin 2009-01-24   \n",
       "2    https://www.airbnb.com/users/show/7054   Mei Lin 2009-01-24   \n",
       "3    https://www.airbnb.com/users/show/7054   Mei Lin 2009-01-24   \n",
       "4  https://www.airbnb.com/users/show/551319    Judith 2011-05-02   \n",
       "\n",
       "                              host_location  \\\n",
       "0  Mountain View, California, United States   \n",
       "1      Palo Alto, California, United States   \n",
       "2      Palo Alto, California, United States   \n",
       "3      Palo Alto, California, United States   \n",
       "4      Cupertino, California, United States   \n",
       "\n",
       "                                          host_about host_response_time  \\\n",
       "0  I pride myself on attention to details and cus...     within an hour   \n",
       "1  I have lived and worked in Asia, Europe, Austr...                NaN   \n",
       "2  I have lived and worked in Asia, Europe, Austr...                NaN   \n",
       "3  I have lived and worked in Asia, Europe, Austr...                NaN   \n",
       "4  My husband and I have lived in Cupertino for o...     within an hour   \n",
       "\n",
       "   host_response_rate  host_acceptance_rate  host_is_superhost  \\\n",
       "0                 1.0                  0.91              False   \n",
       "1                 NaN                  0.97               True   \n",
       "2                 NaN                  0.97               True   \n",
       "3                 NaN                  0.97               True   \n",
       "4                 1.0                  0.83               True   \n",
       "\n",
       "                                  host_thumbnail_url  \\\n",
       "0  https://a0.muscache.com/im/users/42458/profile...   \n",
       "1  https://a0.muscache.com/im/users/7054/profile_...   \n",
       "2  https://a0.muscache.com/im/users/7054/profile_...   \n",
       "3  https://a0.muscache.com/im/users/7054/profile_...   \n",
       "4  https://a0.muscache.com/im/pictures/user/77656...   \n",
       "\n",
       "                                    host_picture_url host_neighbourhood  \\\n",
       "0  https://a0.muscache.com/im/users/42458/profile...        Santa Clara   \n",
       "1  https://a0.muscache.com/im/users/7054/profile_...          Palo Alto   \n",
       "2  https://a0.muscache.com/im/users/7054/profile_...          Palo Alto   \n",
       "3  https://a0.muscache.com/im/users/7054/profile_...          Palo Alto   \n",
       "4  https://a0.muscache.com/im/pictures/user/77656...          Cupertino   \n",
       "\n",
       "   host_listings_count  host_total_listings_count  \\\n",
       "0                   15                         15   \n",
       "1                    5                          5   \n",
       "2                    5                          5   \n",
       "3                    5                          5   \n",
       "4                    1                          1   \n",
       "\n",
       "                                  host_verifications  host_has_profile_pic  \\\n",
       "0                            [email, phone, reviews]                  True   \n",
       "1  [email, phone, reviews, jumio, offline_governm...                  True   \n",
       "2  [email, phone, reviews, jumio, offline_governm...                  True   \n",
       "3  [email, phone, reviews, jumio, offline_governm...                  True   \n",
       "4  [email, phone, facebook, reviews, kba, work_em...                  True   \n",
       "\n",
       "   host_identity_verified                           neighbourhood  \\\n",
       "0                   False  Santa Clara, California, United States   \n",
       "1                    True    Palo Alto, California, United States   \n",
       "2                    True    Palo Alto, California, United States   \n",
       "3                    True    Palo Alto, California, United States   \n",
       "4                    True    Cupertino, California, United States   \n",
       "\n",
       "  neighbourhood_cleansed  latitude  longitude          property_type  \\\n",
       "0            Santa Clara  37.34342 -121.98829       Entire apartment   \n",
       "1              Palo Alto  37.44001 -122.15667  Private room in villa   \n",
       "2              Palo Alto  37.43925 -122.15617  Private room in villa   \n",
       "3              Palo Alto  37.44157 -122.15553  Private room in villa   \n",
       "4              Cupertino  37.32194 -122.00511      Entire guesthouse   \n",
       "\n",
       "         room_type  accommodates  bathrooms_text  bedrooms  beds  \\\n",
       "0  Entire home/apt             1          1 bath       NaN   0.0   \n",
       "1     Private room             1  2 shared baths       1.0   1.0   \n",
       "2     Private room             2  2 shared baths       1.0   4.0   \n",
       "3     Private room             1  2 shared baths       1.0   1.0   \n",
       "4  Entire home/apt             4          1 bath       1.0   1.0   \n",
       "\n",
       "                                           amenities  price  minimum_nights  \\\n",
       "0  [Pool, Fire extinguisher, Hair dryer, Building...   75.0              14   \n",
       "1  [Fire extinguisher, Hair dryer, Host greets yo...   80.0               2   \n",
       "2  [Fire extinguisher, Hair dryer, Host greets yo...  100.0               7   \n",
       "3  [Fire extinguisher, Hair dryer, Host greets yo...   85.0               2   \n",
       "4  [Fire extinguisher, Hair dryer, High chair, Si...  189.0               3   \n",
       "\n",
       "   maximum_nights  minimum_minimum_nights  maximum_minimum_nights  \\\n",
       "0             365                    14.0                    14.0   \n",
       "1             730                     2.0                     2.0   \n",
       "2             730                     7.0                     7.0   \n",
       "3             365                     2.0                     2.0   \n",
       "4            1125                     3.0                     3.0   \n",
       "\n",
       "   minimum_maximum_nights  maximum_maximum_nights  minimum_nights_avg_ntm  \\\n",
       "0                   365.0                   365.0                    14.0   \n",
       "1                   730.0                   730.0                     2.0   \n",
       "2                  1125.0                  1125.0                     7.0   \n",
       "3                   365.0                   365.0                     2.0   \n",
       "4                  1125.0                  1125.0                     3.0   \n",
       "\n",
       "   maximum_nights_avg_ntm  has_availability  availability_30  availability_60  \\\n",
       "0                   365.0              True                3               33   \n",
       "1                   730.0              True                0                0   \n",
       "2                  1125.0              True                0                0   \n",
       "3                   365.0              True                0                0   \n",
       "4                  1125.0              True               23               53   \n",
       "\n",
       "   availability_90  availability_365 calendar_last_scraped  number_of_reviews  \\\n",
       "0               63               153            2020-10-25                  6   \n",
       "1               22               297            2020-10-25                264   \n",
       "2               22               297            2020-10-25                148   \n",
       "3               22               297            2020-10-25                206   \n",
       "4               83               212            2020-10-25                179   \n",
       "\n",
       "   number_of_reviews_ltm  number_of_reviews_l30d first_review last_review  \\\n",
       "0                      0                       0   2014-06-15  2019-10-11   \n",
       "1                     17                       0   2010-05-28  2020-03-14   \n",
       "2                     10                       0   2014-06-11  2020-03-18   \n",
       "3                     16                       0   2011-04-22  2020-03-16   \n",
       "4                      3                       0   2011-08-18  2020-05-31   \n",
       "\n",
       "   review_scores_rating  review_scores_accuracy  review_scores_cleanliness  \\\n",
       "0                  87.0                    10.0                       10.0   \n",
       "1                  97.0                    10.0                       10.0   \n",
       "2                  98.0                    10.0                       10.0   \n",
       "3                  97.0                    10.0                       10.0   \n",
       "4                  99.0                    10.0                       10.0   \n",
       "\n",
       "   review_scores_checkin  review_scores_communication  review_scores_location  \\\n",
       "0                   10.0                          9.0                     9.0   \n",
       "1                   10.0                         10.0                    10.0   \n",
       "2                   10.0                         10.0                    10.0   \n",
       "3                   10.0                         10.0                    10.0   \n",
       "4                   10.0                         10.0                    10.0   \n",
       "\n",
       "   review_scores_value  instant_bookable  calculated_host_listings_count  \\\n",
       "0                  9.0              True                              14   \n",
       "1                 10.0             False                               4   \n",
       "2                  9.0             False                               4   \n",
       "3                  9.0             False                               4   \n",
       "4                 10.0             False                               1   \n",
       "\n",
       "   calculated_host_listings_count_entire_homes  \\\n",
       "0                                           14   \n",
       "1                                            0   \n",
       "2                                            0   \n",
       "3                                            0   \n",
       "4                                            1   \n",
       "\n",
       "   calculated_host_listings_count_private_rooms  \\\n",
       "0                                             0   \n",
       "1                                             4   \n",
       "2                                             4   \n",
       "3                                             4   \n",
       "4                                             0   \n",
       "\n",
       "   calculated_host_listings_count_shared_rooms  reviews_per_month  bathrooms  \\\n",
       "0                                            0               0.08        1.0   \n",
       "1                                            0               2.08        2.0   \n",
       "2                                            0               1.91        2.0   \n",
       "3                                            0               1.78        2.0   \n",
       "4                                            0               1.60        1.0   \n",
       "\n",
       "  bathrooms_type  \n",
       "0        Private  \n",
       "1         Shared  \n",
       "2         Shared  \n",
       "3         Shared  \n",
       "4        Private  "
      ]
     },
     "execution_count": 18,
     "metadata": {},
     "output_type": "execute_result"
    }
   ],
   "source": [
    "listings.head()"
   ]
  },
  {
   "cell_type": "code",
   "execution_count": 19,
   "metadata": {},
   "outputs": [
    {
     "name": "stdout",
     "output_type": "stream",
     "text": [
      "<class 'pandas.core.frame.DataFrame'>\n",
      "RangeIndex: 5185 entries, 0 to 5184\n",
      "Data columns (total 72 columns):\n",
      " #   Column                                        Non-Null Count  Dtype         \n",
      "---  ------                                        --------------  -----         \n",
      " 0   id                                            5185 non-null   int64         \n",
      " 1   listing_url                                   5185 non-null   object        \n",
      " 2   scrape_id                                     5185 non-null   int64         \n",
      " 3   last_scraped                                  5185 non-null   datetime64[ns]\n",
      " 4   name                                          5184 non-null   object        \n",
      " 5   description                                   5030 non-null   object        \n",
      " 6   neighborhood_overview                         3218 non-null   object        \n",
      " 7   picture_url                                   5185 non-null   object        \n",
      " 8   host_id                                       5185 non-null   int64         \n",
      " 9   host_url                                      5185 non-null   object        \n",
      " 10  host_name                                     5185 non-null   object        \n",
      " 11  host_since                                    5185 non-null   datetime64[ns]\n",
      " 12  host_location                                 5172 non-null   object        \n",
      " 13  host_about                                    3425 non-null   object        \n",
      " 14  host_response_time                            4167 non-null   object        \n",
      " 15  host_response_rate                            4167 non-null   float64       \n",
      " 16  host_acceptance_rate                          4559 non-null   float64       \n",
      " 17  host_is_superhost                             5185 non-null   bool          \n",
      " 18  host_thumbnail_url                            5185 non-null   object        \n",
      " 19  host_picture_url                              5185 non-null   object        \n",
      " 20  host_neighbourhood                            4349 non-null   object        \n",
      " 21  host_listings_count                           5185 non-null   int64         \n",
      " 22  host_total_listings_count                     5185 non-null   int64         \n",
      " 23  host_verifications                            5185 non-null   object        \n",
      " 24  host_has_profile_pic                          5185 non-null   bool          \n",
      " 25  host_identity_verified                        5185 non-null   bool          \n",
      " 26  neighbourhood                                 3218 non-null   object        \n",
      " 27  neighbourhood_cleansed                        5185 non-null   object        \n",
      " 28  latitude                                      5185 non-null   float64       \n",
      " 29  longitude                                     5185 non-null   float64       \n",
      " 30  property_type                                 5185 non-null   object        \n",
      " 31  room_type                                     5185 non-null   object        \n",
      " 32  accommodates                                  5185 non-null   int64         \n",
      " 33  bathrooms_text                                5179 non-null   object        \n",
      " 34  bedrooms                                      4879 non-null   float64       \n",
      " 35  beds                                          5132 non-null   float64       \n",
      " 36  amenities                                     5185 non-null   object        \n",
      " 37  price                                         5185 non-null   float64       \n",
      " 38  minimum_nights                                5185 non-null   int64         \n",
      " 39  maximum_nights                                5185 non-null   int64         \n",
      " 40  minimum_minimum_nights                        5184 non-null   float64       \n",
      " 41  maximum_minimum_nights                        5184 non-null   float64       \n",
      " 42  minimum_maximum_nights                        5184 non-null   float64       \n",
      " 43  maximum_maximum_nights                        5184 non-null   float64       \n",
      " 44  minimum_nights_avg_ntm                        5184 non-null   float64       \n",
      " 45  maximum_nights_avg_ntm                        5184 non-null   float64       \n",
      " 46  has_availability                              5185 non-null   bool          \n",
      " 47  availability_30                               5185 non-null   int64         \n",
      " 48  availability_60                               5185 non-null   int64         \n",
      " 49  availability_90                               5185 non-null   int64         \n",
      " 50  availability_365                              5185 non-null   int64         \n",
      " 51  calendar_last_scraped                         5185 non-null   datetime64[ns]\n",
      " 52  number_of_reviews                             5185 non-null   int64         \n",
      " 53  number_of_reviews_ltm                         5185 non-null   int64         \n",
      " 54  number_of_reviews_l30d                        5185 non-null   int64         \n",
      " 55  first_review                                  4113 non-null   datetime64[ns]\n",
      " 56  last_review                                   4113 non-null   datetime64[ns]\n",
      " 57  review_scores_rating                          4075 non-null   float64       \n",
      " 58  review_scores_accuracy                        4073 non-null   float64       \n",
      " 59  review_scores_cleanliness                     4073 non-null   float64       \n",
      " 60  review_scores_checkin                         4072 non-null   float64       \n",
      " 61  review_scores_communication                   4073 non-null   float64       \n",
      " 62  review_scores_location                        4072 non-null   float64       \n",
      " 63  review_scores_value                           4072 non-null   float64       \n",
      " 64  instant_bookable                              5185 non-null   bool          \n",
      " 65  calculated_host_listings_count                5185 non-null   int64         \n",
      " 66  calculated_host_listings_count_entire_homes   5185 non-null   int64         \n",
      " 67  calculated_host_listings_count_private_rooms  5185 non-null   int64         \n",
      " 68  calculated_host_listings_count_shared_rooms   5185 non-null   int64         \n",
      " 69  reviews_per_month                             4113 non-null   float64       \n",
      " 70  bathrooms                                     5179 non-null   float64       \n",
      " 71  bathrooms_type                                5179 non-null   object        \n",
      "dtypes: bool(5), datetime64[ns](5), float64(22), int64(19), object(21)\n",
      "memory usage: 2.7+ MB\n"
     ]
    }
   ],
   "source": [
    "listings.info()"
   ]
  },
  {
   "cell_type": "code",
   "execution_count": 20,
   "metadata": {},
   "outputs": [
    {
     "data": {
      "text/plain": [
       "Index(['name', 'description', 'neighborhood_overview', 'host_location',\n",
       "       'host_about', 'host_response_time', 'host_response_rate',\n",
       "       'host_acceptance_rate', 'host_neighbourhood', 'neighbourhood',\n",
       "       'bathrooms_text', 'bedrooms', 'beds', 'minimum_minimum_nights',\n",
       "       'maximum_minimum_nights', 'minimum_maximum_nights',\n",
       "       'maximum_maximum_nights', 'minimum_nights_avg_ntm',\n",
       "       'maximum_nights_avg_ntm', 'first_review', 'last_review',\n",
       "       'review_scores_rating', 'review_scores_accuracy',\n",
       "       'review_scores_cleanliness', 'review_scores_checkin',\n",
       "       'review_scores_communication', 'review_scores_location',\n",
       "       'review_scores_value', 'reviews_per_month', 'bathrooms',\n",
       "       'bathrooms_type'],\n",
       "      dtype='object')"
      ]
     },
     "execution_count": 20,
     "metadata": {},
     "output_type": "execute_result"
    }
   ],
   "source": [
    "# output columns with missing values\n",
    "listings.columns[listings.isnull().sum()>0]"
   ]
  },
  {
   "cell_type": "markdown",
   "metadata": {},
   "source": [
    "It seems reasonable for these columns to have missing values. Some possible reasons that these columns have missing values is that the host did not want to include all information for the listing, or the listing is new so it has not yet gotten any inquires, bookings, or reviews. I do not want to impute any values for now, since the imputed values may not be accurate. I will impute values later if necessary.\n",
    "\n",
    "<a id='analysis'></a>\n",
    "## Data Analysis & Modeling\n",
    "\n",
    "### How often are Airbnb listings occupied?\n",
    "\n",
    "If a listing has a high occupancy rate, it is an indication that the listing is possibly not operating under Airbnb's original intentions, leading to other downstream consequences as mentioned previously. In order to calculate the occupancy rate, I will use Inside Airbnb's \"San Francisco Model\", which is described [here](http://insideairbnb.com/about.html). Essentially, this model assumes a review rate of 50%, meaning that bookings get reviewed 50% of the time. Unless there is other data on the average nights per booking for a location, the model then assumes 3 nights per booking, unless a listing has a higher number of minimum nights required. In the case of [Santa Clara County](http://insideairbnb.com/santa-clara-county/?neighbourhood=&filterEntireHomes=false&filterHighlyAvailable=false&filterRecentReviews=false&filterMultiListings=false), there is no other data, so the model uses 3 nights per booking. Finally, the model caps the maximum occupancy at 70% to make sure that the model is reasonable but conservative.\n",
    "\n",
    "I will follow the same methodology and create a function to find the occupancy rate for each listing."
   ]
  },
  {
   "cell_type": "code",
   "execution_count": 21,
   "metadata": {},
   "outputs": [],
   "source": [
    "listings_occ = listings.copy()"
   ]
  },
  {
   "cell_type": "code",
   "execution_count": 22,
   "metadata": {},
   "outputs": [],
   "source": [
    "def run_sf_model(reviews_per_month, minimum_nights):\n",
    "    '''\n",
    "    INPUT:\n",
    "    reviews_per_month (Series) - number of reviews per months that listings receive\n",
    "    minimum_nights (Series) - minimum number of nights required for listings to be booked\n",
    "    \n",
    "    OUTPUT:\n",
    "    nights_per_year (Series) - estimated number of nights per year that a listing is booked\n",
    "    \n",
    "    Estimate the number of nights per year that a listing is booked based on Inside Airbnb's San Francisco Model.\n",
    "    '''\n",
    "    \n",
    "    # assume that listings have a review rate of 50%, meaning the number of reviews is 50% of the number of bookings\n",
    "    est_bookings_per_month = reviews_per_month*2\n",
    "    # assume 3 nights per booking, unless the listing has a higher minimum nights\n",
    "    nights_per_booking = minimum_nights.apply(lambda nights: max(nights, 3))\n",
    "    nights_per_month = est_bookings_per_month*nights_per_booking\n",
    "    # assume that the occupancy rate is capped at 70%\n",
    "    nights_per_year = nights_per_month.apply(lambda nights: min(nights*12, 0.7*365))\n",
    "    return nights_per_year"
   ]
  },
  {
   "cell_type": "code",
   "execution_count": 23,
   "metadata": {},
   "outputs": [],
   "source": [
    "listings_occ['nights_per_year'] = run_sf_model(listings_occ['reviews_per_month'], listings_occ['minimum_nights'])"
   ]
  },
  {
   "cell_type": "markdown",
   "metadata": {},
   "source": [
    "Now that I have the `nights_per_year` booked for the listings, I can find the occupancy rate by finding the percentage of nights in a year that listings are booked. I can also find the average income per month for listings by multiplying the `nights_per_year` booked by the `price` to get the total annual income, and then divide that by 12 months."
   ]
  },
  {
   "cell_type": "code",
   "execution_count": 24,
   "metadata": {},
   "outputs": [],
   "source": [
    "listings_occ['occupancy'] = listings_occ['nights_per_year']/365\n",
    "listings_occ['income_per_month'] = listings_occ['nights_per_year']*listings_occ['price']/12"
   ]
  },
  {
   "cell_type": "markdown",
   "metadata": {},
   "source": [
    "Now that I have the `occupancy` column, I will look at the distribution to help answer my question."
   ]
  },
  {
   "cell_type": "code",
   "execution_count": 25,
   "metadata": {},
   "outputs": [
    {
     "data": {
      "image/png": "[encoded data removed]",
      "text/plain": [
       "<Figure size 576x432 with 1 Axes>"
      ]
     },
     "metadata": {
      "needs_background": "light"
     },
     "output_type": "display_data"
    }
   ],
   "source": [
    "bin_size = 0.02\n",
    "bins = np.arange(0, 0.7+bin_size, bin_size)\n",
    "plt.figure(figsize=[8, 6])\n",
    "plt.hist(data=listings_occ, x='occupancy', bins=bins);"
   ]
  },
  {
   "cell_type": "markdown",
   "metadata": {},
   "source": [
    "Interestingly, the distribution of `occupancy` hits a peak around 5% and then gradually decreases until it reaches about 70%, at which point there is a large spike. This is likely due to `occupancy` being capped at 70%, so a lot of listings which might have had a high number of `reviews_per_month` or `minimum_nights`, and consequently higher occupancy, were all adjusted down.\n",
    "\n",
    "I will take a quick look at the proportion of operating listings that are at 70% occupancy."
   ]
  },
  {
   "cell_type": "code",
   "execution_count": 26,
   "metadata": {},
   "outputs": [
    {
     "data": {
      "text/plain": [
       "0.16508631169462679"
      ]
     },
     "execution_count": 26,
     "metadata": {},
     "output_type": "execute_result"
    }
   ],
   "source": [
    "listings_occ.query('occupancy == 0.7').shape[0]/listings_occ[listings_occ['occupancy'].notnull()].shape[0]"
   ]
  },
  {
   "cell_type": "markdown",
   "metadata": {},
   "source": [
    "Now I want to look at the `occupancy` by the `neighbourhood_cleansed`. Before I do that though, I also will look at the count of each `neighbourhood_cleansed` to get a better idea of the data."
   ]
  },
  {
   "cell_type": "code",
   "execution_count": 27,
   "metadata": {},
   "outputs": [
    {
     "data": {
      "image/png": "[encoded data removed]",
      "text/plain": [
       "<Figure size 576x432 with 1 Axes>"
      ]
     },
     "metadata": {
      "needs_background": "light"
     },
     "output_type": "display_data"
    }
   ],
   "source": [
    "base_color = sb.color_palette()[0]\n",
    "# order the categories by highest to lowest value counts\n",
    "neighbourhood_order = listings_occ['neighbourhood_cleansed'].value_counts().index\n",
    "ordered_neighbourhood = pd.api.types.CategoricalDtype(categories=neighbourhood_order, ordered=True)\n",
    "listings_occ['neighbourhood_cleansed'] = listings_occ['neighbourhood_cleansed'].astype(ordered_neighbourhood)\n",
    "plt.figure(figsize=[8, 6])\n",
    "sb.countplot(data=listings_occ, y='neighbourhood_cleansed', color=base_color);"
   ]
  },
  {
   "cell_type": "markdown",
   "metadata": {},
   "source": [
    "San Jose has the most listings by far, followed by Sunnyvale, Santa Clara, Palo Alto, and Mountain View. After that, the number of listings per neighborhood drops lower, to about 250 or less for each.\n",
    "\n",
    "Now I can look at `occupancy` by `neighbourhood_cleansed`, and I will do this using box plots."
   ]
  },
  {
   "cell_type": "code",
   "execution_count": 28,
   "metadata": {},
   "outputs": [
    {
     "data": {
      "image/png": "[encoded data removed]",
      "text/plain": [
       "<Figure size 576x432 with 1 Axes>"
      ]
     },
     "metadata": {
      "needs_background": "light"
     },
     "output_type": "display_data"
    }
   ],
   "source": [
    "plt.figure(figsize=[8, 6])\n",
    "sb.boxplot(data=listings_occ, x='occupancy', y='neighbourhood_cleansed', color=base_color);"
   ]
  },
  {
   "cell_type": "markdown",
   "metadata": {},
   "source": [
    "I cannot draw any definite conclusions from this visualization. Unincorporated Areas, Los Gatos, Saratoga, and Gilroy all seem to have higher `occupancy`, while Morgan Hill stands out on the low end. However, all of these neighborhoods also have low numbers of listings, which means they could be more heavily influenced by outliers.\n",
    "\n",
    "Now I will look at the occupancy rate by `room_type`. Again, I will look at the counts for the variable to understand the data first."
   ]
  },
  {
   "cell_type": "code",
   "execution_count": 29,
   "metadata": {},
   "outputs": [
    {
     "data": {
      "image/png": "[encoded data removed]",
      "text/plain": [
       "<Figure size 576x432 with 1 Axes>"
      ]
     },
     "metadata": {
      "needs_background": "light"
     },
     "output_type": "display_data"
    }
   ],
   "source": [
    "room_order = listings_occ['room_type'].value_counts().index\n",
    "ordered_room = pd.api.types.CategoricalDtype(categories=room_order, ordered=True)\n",
    "listings_occ['room_type'] = listings_occ['room_type'].astype(ordered_room)\n",
    "plt.figure(figsize=[8, 6])\n",
    "sb.countplot(data=listings_occ, x='room_type', color=base_color);"
   ]
  },
  {
   "cell_type": "code",
   "execution_count": 30,
   "metadata": {},
   "outputs": [
    {
     "data": {
      "text/plain": [
       "Entire home/apt    2576\n",
       "Private room       2382\n",
       "Shared room         225\n",
       "Hotel room            2\n",
       "Name: room_type, dtype: int64"
      ]
     },
     "execution_count": 30,
     "metadata": {},
     "output_type": "execute_result"
    }
   ],
   "source": [
    "listings_occ['room_type'].value_counts()"
   ]
  },
  {
   "cell_type": "markdown",
   "metadata": {},
   "source": [
    "There are much fewer counts of shared rooms compared to the two largest types. I will also remove the two rows with `Hotel room`, since these will not be useful.\n",
    "\n",
    "After removing the rows, I can show the distribution of `occupancy` by `room_type` using faceted histograms. I will normalize the histograms and make the `room_type` easier to compare by showing the percentage of the counts in each bin."
   ]
  },
  {
   "cell_type": "code",
   "execution_count": 31,
   "metadata": {},
   "outputs": [
    {
     "data": {
      "image/png": "[encoded data removed]",
      "text/plain": [
       "<Figure size 1080x360 with 3 Axes>"
      ]
     },
     "metadata": {
      "needs_background": "light"
     },
     "output_type": "display_data"
    }
   ],
   "source": [
    "listings_occ_mod = listings_occ.query('room_type != \"Hotel room\"')\n",
    "# make sure 'Hotel room' is removed\n",
    "listings_occ_mod['room_type'].cat.remove_unused_categories(inplace=True)\n",
    "bin_size = 0.02\n",
    "bins = np.arange(0, 0.7+bin_size, bin_size)\n",
    "sb.displot(data=listings_occ_mod, x='occupancy', col='room_type', bins=bins, stat='probability', common_norm=False);"
   ]
  },
  {
   "cell_type": "markdown",
   "metadata": {},
   "source": [
    "This visualization shows a clear difference between the three different types of rooms. Entire homes and apartments tend to have a high proportion of listings hitting the limit on `occupancy`. Private rooms, in comparison, have lower `occupancy`, with a higher proportion towards the left side of the distribution, but still a noticeable peak at the maximum. Shared rooms clearly have the lowest `occupancy`, with the highest proportion on the left side of the distribution and only a slight peak at the maximum.\n",
    "\n",
    "### Do Airbnbs generate more income per month than long-term rentals?\n",
    "\n",
    "Now I want to find out how much income per month Airbnbs generate. If this amount is more than the income per month for a long-term rental, this means that hosts may be more incentivized to put their listings on Airbnb rather than on the rental market, which could lead to housing shortages.\n",
    "\n",
    "First I will look at the distribution of `income_per_month` to understand the data."
   ]
  },
  {
   "cell_type": "code",
   "execution_count": 32,
   "metadata": {},
   "outputs": [
    {
     "data": {
      "image/png": "[encoded data removed]",
      "text/plain": [
       "<Figure size 576x432 with 1 Axes>"
      ]
     },
     "metadata": {
      "needs_background": "light"
     },
     "output_type": "display_data"
    }
   ],
   "source": [
    "bin_size = 5000\n",
    "bins = np.arange(0, listings_occ['income_per_month'].max()+bin_size, bin_size)\n",
    "plt.figure(figsize=[8, 6])\n",
    "plt.hist(data=listings_occ, x='income_per_month', bins=bins);"
   ]
  },
  {
   "cell_type": "markdown",
   "metadata": {},
   "source": [
    "The distribution is very right-skewed, so I will plot the histogram using a logarithmic scale."
   ]
  },
  {
   "cell_type": "code",
   "execution_count": 33,
   "metadata": {},
   "outputs": [
    {
     "data": {
      "image/png": "[encoded data removed]",
      "text/plain": [
       "<Figure size 576x432 with 1 Axes>"
      ]
     },
     "metadata": {
      "needs_background": "light"
     },
     "output_type": "display_data"
    }
   ],
   "source": [
    "log_bin_size = 0.1\n",
    "tick_labels = [1, 10, 100, 1000, 10000, 100000]\n",
    "bins = 10**np.arange(0, np.log10(listings_occ['income_per_month'].max())+log_bin_size, log_bin_size)\n",
    "plt.figure(figsize=[8, 6])\n",
    "plt.hist(data=listings_occ, x='income_per_month', bins=bins)\n",
    "plt.xscale('log')\n",
    "plt.xticks(tick_labels, tick_labels);"
   ]
  },
  {
   "cell_type": "markdown",
   "metadata": {},
   "source": [
    "Using this histogram, it appears that the peak occurs around $1,000 per month. It should also be noted that there are several outliers.\n",
    "\n",
    "Now I want to look at the `income_per_month` by `room_type`, since entire properties will obviously have more space than shared or private rooms, and therefore generate more income. Since `income_per_month` has outliers, I will show the median for each `room_type`."
   ]
  },
  {
   "cell_type": "code",
   "execution_count": 34,
   "metadata": {},
   "outputs": [
    {
     "data": {
      "image/png": "[encoded data removed]",
      "text/plain": [
       "<Figure size 576x432 with 1 Axes>"
      ]
     },
     "metadata": {
      "needs_background": "light"
     },
     "output_type": "display_data"
    }
   ],
   "source": [
    "# plot median monthly rent in Santa Clara County as reference line\n",
    "median_rent = 2392\n",
    "plt.figure(figsize=[8, 6])\n",
    "sb.barplot(data=listings_occ_mod, x='room_type', y='income_per_month', estimator=np.median, color=base_color, ci=None)\n",
    "plt.ylim(0, 2500)\n",
    "plt.axhline(y=median_rent, color='r');"
   ]
  },
  {
   "cell_type": "markdown",
   "metadata": {},
   "source": [
    "The red line is the median monthly rent for a home in Santa Clara County, so it is clear that when looking at all listings, Airbnbs seem to generate less income than long-term rentals. However, not all listings will have a high enough occupancy rate to generate much income, so now I want to see if frequently-booked listings can match the median long-term rent. Inside Airbnb defines \"frequently-booked\" as listings that are booked more than 60 nights per year.\n",
    "\n",
    "I will also take a quick look at the counts by `room_type` beforehand to understand the data."
   ]
  },
  {
   "cell_type": "code",
   "execution_count": 35,
   "metadata": {},
   "outputs": [
    {
     "data": {
      "image/png": "[encoded data removed]",
      "text/plain": [
       "<Figure size 576x432 with 1 Axes>"
      ]
     },
     "metadata": {
      "needs_background": "light"
     },
     "output_type": "display_data"
    }
   ],
   "source": [
    "listings_occ_high = listings_occ_mod.query('nights_per_year > 60')\n",
    "plt.figure(figsize=[8, 6])\n",
    "sb.countplot(data=listings_occ_high, x='room_type', color=base_color);"
   ]
  },
  {
   "cell_type": "markdown",
   "metadata": {},
   "source": [
    "A very low amount of shared rooms are frequently booked compared to entire homes/apartments and private rooms."
   ]
  },
  {
   "cell_type": "code",
   "execution_count": 36,
   "metadata": {},
   "outputs": [
    {
     "data": {
      "image/png": "[encoded data removed]",
      "text/plain": [
       "<Figure size 576x432 with 1 Axes>"
      ]
     },
     "metadata": {
      "needs_background": "light"
     },
     "output_type": "display_data"
    }
   ],
   "source": [
    "plt.figure(figsize=[8, 6])\n",
    "sb.barplot(\n",
    "    data=listings_occ_high,\n",
    "    x='room_type',\n",
    "    y='income_per_month',\n",
    "    estimator=np.median,\n",
    "    color=base_color,\n",
    "    ci=None\n",
    ")\n",
    "plt.ylim(0, 2500)\n",
    "plt.axhline(y=median_rent, color='r');"
   ]
  },
  {
   "cell_type": "markdown",
   "metadata": {},
   "source": [
    "The median for frequently booked listings still does not match the median long-term rent. I am curious to see at which point the medians will be equal, so I will raise the filter to a third of the year, or around 120 nights.\n",
    "\n",
    "Again, I will take a look at the counts beforehand."
   ]
  },
  {
   "cell_type": "code",
   "execution_count": 37,
   "metadata": {},
   "outputs": [
    {
     "data": {
      "image/png": "[encoded data removed]",
      "text/plain": [
       "<Figure size 576x432 with 1 Axes>"
      ]
     },
     "metadata": {
      "needs_background": "light"
     },
     "output_type": "display_data"
    }
   ],
   "source": [
    "listings_occ_higher = listings_occ_mod.query('nights_per_year > 365/3')\n",
    "plt.figure(figsize=[8, 6])\n",
    "sb.countplot(data=listings_occ_higher, x='room_type', color=base_color);"
   ]
  },
  {
   "cell_type": "markdown",
   "metadata": {},
   "source": [
    "Again, there is a very low amount of shared rooms with more than a third of the `nights_per_year` booked."
   ]
  },
  {
   "cell_type": "code",
   "execution_count": 38,
   "metadata": {},
   "outputs": [
    {
     "data": {
      "image/png": "[encoded data removed]",
      "text/plain": [
       "<Figure size 576x432 with 1 Axes>"
      ]
     },
     "metadata": {
      "needs_background": "light"
     },
     "output_type": "display_data"
    }
   ],
   "source": [
    "listings_occ_higher = listings_occ_mod.query('nights_per_year > 365/3')\n",
    "plt.figure(figsize=[8, 6])\n",
    "sb.barplot(\n",
    "    data=listings_occ_higher,\n",
    "    x='room_type',\n",
    "    y='income_per_month',\n",
    "    estimator=np.median,\n",
    "    color=base_color,\n",
    "    ci=None\n",
    ")\n",
    "plt.axhline(y=median_rent, color='r');"
   ]
  },
  {
   "cell_type": "markdown",
   "metadata": {},
   "source": [
    "When looking at listings that are booked for more than a third of the year, the median of the entire homes/apartments is just about equal to the median long-term rent for an entire property in Santa Clara County. Having searched for places to rent in the county, I can also confirm that the approximate $1,000 median for a private room is reasonably equivalent to the long-term rent for a room.\n",
    "\n",
    "But after seeing this, I am wondering, how feasible is it for a listing to be rented out for a third of the year? I will answer this by looking at the percentage of operating Airbnbs that are able to do so."
   ]
  },
  {
   "cell_type": "code",
   "execution_count": 39,
   "metadata": {},
   "outputs": [
    {
     "data": {
      "text/plain": [
       "0.40029182879377434"
      ]
     },
     "execution_count": 39,
     "metadata": {},
     "output_type": "execute_result"
    }
   ],
   "source": [
    "listings_occ_higher.shape[0]/listings_occ_mod[listings_occ_mod['nights_per_year'].notnull()].shape[0]"
   ]
  },
  {
   "cell_type": "markdown",
   "metadata": {},
   "source": [
    "If 40% of the listings can be rented out for a third of the year, that means it probably is not too difficult. Plus, that leaves two-thirds of the rest of the year for the property to be used for other purposes, if the host desires. This shows that the Airbnb system may provide some incentives for property owners to list on Airbnb rather than the rental market.\n",
    "\n",
    "Obviously, some neighborhoods are more expensive than others. Therefore, I will look at the median `income_per_month` by `neighbourhood_cleansed` for listings that fall in the `Entire home/apt` category. I will need to filter the `listings_occ` dataframe first, and then take a look at the counts by `neighbourhood_cleansed`."
   ]
  },
  {
   "cell_type": "code",
   "execution_count": 40,
   "metadata": {},
   "outputs": [
    {
     "name": "stderr",
     "output_type": "stream",
     "text": [
      "/opt/anaconda3/lib/python3.7/site-packages/ipykernel_launcher.py:2: SettingWithCopyWarning: \n",
      "A value is trying to be set on a copy of a slice from a DataFrame.\n",
      "Try using .loc[row_indexer,col_indexer] = value instead\n",
      "\n",
      "See the caveats in the documentation: https://pandas.pydata.org/pandas-docs/stable/user_guide/indexing.html#returning-a-view-versus-a-copy\n",
      "  \n",
      "/opt/anaconda3/lib/python3.7/site-packages/ipykernel_launcher.py:6: SettingWithCopyWarning: \n",
      "A value is trying to be set on a copy of a slice from a DataFrame.\n",
      "Try using .loc[row_indexer,col_indexer] = value instead\n",
      "\n",
      "See the caveats in the documentation: https://pandas.pydata.org/pandas-docs/stable/user_guide/indexing.html#returning-a-view-versus-a-copy\n",
      "  \n"
     ]
    },
    {
     "data": {
      "image/png": "[encoded data removed]",
      "text/plain": [
       "<Figure size 576x432 with 1 Axes>"
      ]
     },
     "metadata": {
      "needs_background": "light"
     },
     "output_type": "display_data"
    }
   ],
   "source": [
    "listings_occ_entire = listings_occ.query('room_type == \"Entire home/apt\"')\n",
    "listings_occ_entire['neighbourhood_cleansed'] = listings_occ_entire['neighbourhood_cleansed'].astype(str)\n",
    "neighbourhood_order = listings_occ_entire['neighbourhood_cleansed'].value_counts().index\n",
    "ordered_neighbourhood = pd.api.types.CategoricalDtype(categories=neighbourhood_order, ordered=True)\n",
    "listings_occ_entire['neighbourhood_cleansed'] = \\\n",
    "    listings_occ_entire['neighbourhood_cleansed'].astype(ordered_neighbourhood)\n",
    "plt.figure(figsize=[8, 6])\n",
    "sb.countplot(data=listings_occ_entire, y='neighbourhood_cleansed', color=base_color);"
   ]
  },
  {
   "cell_type": "markdown",
   "metadata": {},
   "source": [
    "This follows a similar trend to all listings -- San Jose has, by far, the most entire homes/apartments, followed by Mountain View, Palo Alto, Sunnyvale, Santa Clara, Cupertino, and Unincorporated Areas. The rest of the neighborhoods after that have low counts."
   ]
  },
  {
   "cell_type": "code",
   "execution_count": 41,
   "metadata": {},
   "outputs": [
    {
     "data": {
      "image/png": "[encoded data removed]",
      "text/plain": [
       "<Figure size 576x432 with 1 Axes>"
      ]
     },
     "metadata": {
      "needs_background": "light"
     },
     "output_type": "display_data"
    }
   ],
   "source": [
    "plt.figure(figsize=[8, 6])\n",
    "sb.barplot(\n",
    "    data=listings_occ_entire,\n",
    "    x='income_per_month',\n",
    "    y='neighbourhood_cleansed',\n",
    "    estimator=np.median,\n",
    "    color=base_color,\n",
    "    ci=None\n",
    ")\n",
    "plt.axvline(x=median_rent, color='r');"
   ]
  },
  {
   "cell_type": "markdown",
   "metadata": {},
   "source": [
    "When looking at all homes/apartments, only Saratoga has a median `income_per_month` that is higher than the median long-term rent.\n",
    "\n",
    "Now I am curious to see what this looks like only for homes/apartments that reach the one-third threshold that I mentioned earlier."
   ]
  },
  {
   "cell_type": "code",
   "execution_count": 42,
   "metadata": {},
   "outputs": [
    {
     "name": "stderr",
     "output_type": "stream",
     "text": [
      "/opt/anaconda3/lib/python3.7/site-packages/ipykernel_launcher.py:2: SettingWithCopyWarning: \n",
      "A value is trying to be set on a copy of a slice from a DataFrame.\n",
      "Try using .loc[row_indexer,col_indexer] = value instead\n",
      "\n",
      "See the caveats in the documentation: https://pandas.pydata.org/pandas-docs/stable/user_guide/indexing.html#returning-a-view-versus-a-copy\n",
      "  \n",
      "/opt/anaconda3/lib/python3.7/site-packages/ipykernel_launcher.py:6: SettingWithCopyWarning: \n",
      "A value is trying to be set on a copy of a slice from a DataFrame.\n",
      "Try using .loc[row_indexer,col_indexer] = value instead\n",
      "\n",
      "See the caveats in the documentation: https://pandas.pydata.org/pandas-docs/stable/user_guide/indexing.html#returning-a-view-versus-a-copy\n",
      "  \n"
     ]
    },
    {
     "data": {
      "image/png": "[encoded data removed]",
      "text/plain": [
       "<Figure size 576x432 with 1 Axes>"
      ]
     },
     "metadata": {
      "needs_background": "light"
     },
     "output_type": "display_data"
    }
   ],
   "source": [
    "listings_occ_entire_high = listings_occ_entire.query('nights_per_year > 365/3')\n",
    "listings_occ_entire_high['neighbourhood_cleansed'] = listings_occ_entire_high['neighbourhood_cleansed'].astype(str)\n",
    "neighbourhood_order = listings_occ_entire_high['neighbourhood_cleansed'].value_counts().index\n",
    "ordered_neighbourhood = pd.api.types.CategoricalDtype(categories=neighbourhood_order, ordered=True)\n",
    "listings_occ_entire_high['neighbourhood_cleansed'] = \\\n",
    "    listings_occ_entire_high['neighbourhood_cleansed'].astype(ordered_neighbourhood)\n",
    "plt.figure(figsize=[8, 6])\n",
    "sb.countplot(data=listings_occ_entire_high, y='neighbourhood_cleansed', color=base_color);"
   ]
  },
  {
   "cell_type": "markdown",
   "metadata": {},
   "source": [
    "The same trend exists for counts of homes/apartments that reach the one-third year threshold."
   ]
  },
  {
   "cell_type": "code",
   "execution_count": 43,
   "metadata": {},
   "outputs": [
    {
     "data": {
      "image/png": "[encoded data removed]",
      "text/plain": [
       "<Figure size 576x432 with 1 Axes>"
      ]
     },
     "metadata": {
      "needs_background": "light"
     },
     "output_type": "display_data"
    }
   ],
   "source": [
    "plt.figure(figsize=[8, 6])\n",
    "sb.barplot(\n",
    "    data=listings_occ_entire_high,\n",
    "    x='income_per_month',\n",
    "    y='neighbourhood_cleansed',\n",
    "    estimator=np.median,\n",
    "    color=base_color,\n",
    "    ci=None\n",
    ")\n",
    "plt.axvline(x=median_rent, color='r');"
   ]
  },
  {
   "cell_type": "markdown",
   "metadata": {},
   "source": [
    "Homes/apartments in most neighborhoods have an equal or higher median `income_per_month` compared to the median long-term rent. Only Santa Clara, Sunnyvale, Unincorporated Areas, Los Gatos, and Gilroy are lower, but the first three are close.\n",
    "\n",
    "I also want to look at the median `income_per_month` by the number of people that a home/apartment `accommodates`, since larger listings that accommodate more people will clearly generate more income."
   ]
  },
  {
   "cell_type": "code",
   "execution_count": 44,
   "metadata": {},
   "outputs": [
    {
     "data": {
      "image/png": "[encoded data removed]",
      "text/plain": [
       "<Figure size 576x432 with 1 Axes>"
      ]
     },
     "metadata": {
      "needs_background": "light"
     },
     "output_type": "display_data"
    }
   ],
   "source": [
    "plt.figure(figsize=[8, 6])\n",
    "sb.countplot(data=listings_occ_entire, x='accommodates', color=base_color);"
   ]
  },
  {
   "cell_type": "markdown",
   "metadata": {},
   "source": [
    "It looks like a high number of homes/apartments accommodate between 2-6 people. Interestingly, the counts of even-numbered accommodations appear to be higher than those for odd numbers."
   ]
  },
  {
   "cell_type": "code",
   "execution_count": 45,
   "metadata": {},
   "outputs": [
    {
     "data": {
      "image/png": "[encoded data removed]",
      "text/plain": [
       "<Figure size 576x432 with 1 Axes>"
      ]
     },
     "metadata": {
      "needs_background": "light"
     },
     "output_type": "display_data"
    }
   ],
   "source": [
    "plt.figure(figsize=[8, 6])\n",
    "sb.barplot(\n",
    "    data=listings_occ_entire,\n",
    "    x='accommodates',\n",
    "    y='income_per_month',\n",
    "    estimator=np.median,\n",
    "    color=base_color,\n",
    "    ci=None\n",
    ");\n",
    "plt.axhline(y=median_rent, color='r');"
   ]
  },
  {
   "cell_type": "markdown",
   "metadata": {},
   "source": [
    "When looking at all homes/apartments, most places that accommodate 8 or more people are able to reach the equivalent of long-term median rent.\n",
    "\n",
    "Again, I want to see this same visualization, but for homes/apartments that meet the one-third year threshold."
   ]
  },
  {
   "cell_type": "code",
   "execution_count": 46,
   "metadata": {},
   "outputs": [
    {
     "data": {
      "image/png": "[encoded data removed]",
      "text/plain": [
       "<Figure size 576x432 with 1 Axes>"
      ]
     },
     "metadata": {
      "needs_background": "light"
     },
     "output_type": "display_data"
    }
   ],
   "source": [
    "plt.figure(figsize=[8, 6])\n",
    "sb.countplot(data=listings_occ_entire_high, x='accommodates', color=base_color);"
   ]
  },
  {
   "cell_type": "markdown",
   "metadata": {},
   "source": [
    "This follows the same trend as before, with more homes/apartments accommodating between 2-6 people."
   ]
  },
  {
   "cell_type": "code",
   "execution_count": 47,
   "metadata": {},
   "outputs": [
    {
     "data": {
      "image/png": "[encoded data removed]",
      "text/plain": [
       "<Figure size 576x432 with 1 Axes>"
      ]
     },
     "metadata": {
      "needs_background": "light"
     },
     "output_type": "display_data"
    }
   ],
   "source": [
    "plt.figure(figsize=[8, 6])\n",
    "sb.barplot(\n",
    "    data=listings_occ_entire_high,\n",
    "    x='accommodates',\n",
    "    y='income_per_month',\n",
    "    estimator=np.median,\n",
    "    color=base_color,\n",
    "    ci=None\n",
    ")\n",
    "plt.axhline(y=median_rent, color='r');"
   ]
  },
  {
   "cell_type": "markdown",
   "metadata": {},
   "source": [
    "When a home/apartment is able to be booked for a third of the year, it would only need to accommodate four or more people to be equivalent to the median long-term rent.\n",
    "\n",
    "I want to quickly check to see how many listings within the subset would meet this criteria."
   ]
  },
  {
   "cell_type": "code",
   "execution_count": 48,
   "metadata": {},
   "outputs": [
    {
     "data": {
      "text/plain": [
       "0.5892156862745098"
      ]
     },
     "execution_count": 48,
     "metadata": {},
     "output_type": "execute_result"
    }
   ],
   "source": [
    "listings_occ_entire_high.query('accommodates >= 4').shape[0]/listings_occ_entire_high.shape[0]"
   ]
  },
  {
   "cell_type": "markdown",
   "metadata": {},
   "source": [
    "### What percentage of listings have a host that lives in a different city than the listing location?\n",
    "\n",
    "I also want to examine what percentage of listings have a host that lives in a different city than the listing location. If these are two different locations, this could possibly indicate that the host is not renting out their own space, but rather operating more like a hotel.\n",
    "\n",
    "In order to figure this out, I will first look at the unique values in the `host_location` and `neighbourhood_cleansed` columns to see if I need to manipulate the dataframe in any way."
   ]
  },
  {
   "cell_type": "code",
   "execution_count": 49,
   "metadata": {
    "scrolled": true
   },
   "outputs": [
    {
     "data": {
      "text/plain": [
       "array(['Mountain View, California, United States',\n",
       "       'Palo Alto, California, United States',\n",
       "       'Cupertino, California, United States',\n",
       "       'Sunnyvale, California, United States',\n",
       "       'San Jose, California, United States',\n",
       "       'San Francisco, California, United States',\n",
       "       'Santa Clara, California, United States',\n",
       "       'Redwood City, California, United States',\n",
       "       'Saratoga, California, United States',\n",
       "       'Morgan Hill, California, United States',\n",
       "       'California, United States',\n",
       "       'Los Gatos, California, United States',\n",
       "       'Saratoga Springs, New York, United States', 'California',\n",
       "       'Brisbane, California, United States', 'United States',\n",
       "       'Fremont, California, United States',\n",
       "       'Milpitas, California, United States',\n",
       "       'Los Altos, California, United States',\n",
       "       'Campbell, California, United States',\n",
       "       'Menlo Park, California, United States',\n",
       "       'Silicon Valley California',\n",
       "       'San Diego, California, United States', 'US', 'California, USA',\n",
       "       'Taipei, Taiwan', 'Silicon Valley-Bay Area',\n",
       "       'Silicon Valley, California, United States',\n",
       "       'Salem, Massachusetts, United States',\n",
       "       'Monte Sereno, California, United States',\n",
       "       'We live in the main home. ', 'Silicon Valley', 'CA Bay area',\n",
       "       'Oakland, California, United States',\n",
       "       'Cambridge, Massachusetts, United States',\n",
       "       'Carmel Valley, California, United States',\n",
       "       'Gilroy, California, United States',\n",
       "       'Santa Clarita, California, United States',\n",
       "       'Los Angeles, California, United States',\n",
       "       'Pacific Grove, California, United States',\n",
       "       'Silicon Valley, California', 'Aptos, California, United States',\n",
       "       'Los Altos Hills, California, United States',\n",
       "       'Zionsville, Indiana, United States',\n",
       "       'Fresno, California, United States',\n",
       "       'Watsonville, California, United States',\n",
       "       'Seattle, Washington, United States', 'Levis, Quebec, Canada',\n",
       "       'Mill Valley, California, United States',\n",
       "       'Wellesley, Massachusetts, United States',\n",
       "       'Christiansted, St. Croix, U.S. Virgin Islands', nan,\n",
       "       'California     ', 'Las Vegas, Nevada, United States',\n",
       "       'Colville, Washington, United States',\n",
       "       'Berkeley, California, United States',\n",
       "       'Lake Oswego, Oregon, United States',\n",
       "       'Gaithersburg, Maryland, United States',\n",
       "       'Leavenworth, Washington, United States',\n",
       "       'Watertown, Massachusetts, United States',\n",
       "       'Richmond, California, United States',\n",
       "       'Santa Rosa, California, United States',\n",
       "       'Beverly Hills, California, United States',\n",
       "       'Woodside, California, United States',\n",
       "       'Hawthorne, New Jersey, United States', 'JP',\n",
       "       'Newark, California, United States',\n",
       "       'San Mateo, California, United States',\n",
       "       'Federal Way, Washington, United States',\n",
       "       'Incline Village, Nevada, United States',\n",
       "       'New York, New York, United States',\n",
       "       'Evergreen, California, United States', 'Bay Area, CA',\n",
       "       'Burlingame, California, United States',\n",
       "       'San Ramon, California, United States',\n",
       "       'West Menlo Park, California, United States',\n",
       "       'Santa Cruz, California, United States',\n",
       "       'Alameda, California, United States',\n",
       "       'Portland, Oregon, United States',\n",
       "       'Ettalong Beach, New South Wales, Australia',\n",
       "       'Washington, District of Columbia, United States',\n",
       "       'Lancaster, Pennsylvania, United States',\n",
       "       'London, England, United Kingdom',\n",
       "       'Madison, Wisconsin, United States',\n",
       "       'Livermore, California, United States',\n",
       "       'Littleton, Colorado, United States',\n",
       "       'Norfolk, Virginia, United States', 'Shanghai, Taiwan, US',\n",
       "       'Millbrae, California, United States',\n",
       "       'Northern Calif and Southern Calif - Cannot decide which is better!!',\n",
       "       'Laguna Beach, California, United States',\n",
       "       'Markham, Ontario, Canada', 'Belgrade, Serbia',\n",
       "       'Del Mar, California, United States',\n",
       "       'Hayward, California, United States',\n",
       "       'Valley Springs, California, United States',\n",
       "       'San Martin, California, United States', 'SG',\n",
       "       'Foster City, California, United States', 'ES',\n",
       "       'Beijing, Beijing, China', 'Ithaca, New York, United States',\n",
       "       'Philadelphia, Pennsylvania, United States',\n",
       "       'Firebaugh, California, United States', 'China',\n",
       "       'East Lansing, Michigan, United States',\n",
       "       'San Leandro, California, United States',\n",
       "       'Monte Vista, California, United States',\n",
       "       'Bogota, Bogota, Colombia',\n",
       "       'Hillsborough, California, United States',\n",
       "       'Pleasanton, California, United States', 'IN',\n",
       "       'Union City, California, United States',\n",
       "       'Mount Hamilton, California, United States',\n",
       "       'Sacramento, California, United States',\n",
       "       'Redmond, Washington, United States',\n",
       "       'San Francisco / Danville / London', 'CN',\n",
       "       'Hawaiian Gardens, California, United States', 'California ',\n",
       "       'West Sacramento, California, United States',\n",
       "       'Vacaville, California, United States',\n",
       "       'Scottsdale, Arizona, United States', '5 min from downtown',\n",
       "       'South San Francisco, California, United States',\n",
       "       'Boca Raton, Florida, United States', 'The Bay Area',\n",
       "       'Madison Heights, Michigan, United States',\n",
       "       'Irvine, California, United States', 'New Delhi, Delhi, India',\n",
       "       'Santa Monica, California, United States',\n",
       "       'Pacifica, California, United States',\n",
       "       'Bethesda, Maryland, United States', 'Hawaii, United States',\n",
       "       'Cameron Park, California, United States', 'TW', 'USA',\n",
       "       'Atlanta, Georgia, United States',\n",
       "       'Dorrington, California, United States',\n",
       "       'Temecula, California, United States', 'Ames, Iowa, United States',\n",
       "       'Chennai, Tamil Nadu, India',\n",
       "       'Buenos Aires, Buenos Aires, Argentina',\n",
       "       'Romance, West Virginia, United States',\n",
       "       'Brampton, Ontario, Canada', 'PH',\n",
       "       'Daly City, California, United States', 'AU',\n",
       "       'Ypsilanti, Michigan, United States',\n",
       "       'Fayetteville, Arkansas, United States',\n",
       "       'Knoxville, Tennessee, United States',\n",
       "       'Memphis, Tennessee, United States',\n",
       "       'Ramat Gan, Tel Aviv District, Israel',\n",
       "       'Beaverton, Oregon, United States',\n",
       "       'Houston, Texas, United States', 'Tokyo, Japan',\n",
       "       'Carmel-by-the-Sea, California, United States',\n",
       "       'Toronto, Ontario, Canada', 'DE', 'India',\n",
       "       'Monterey, California, United States',\n",
       "       'Springfield, Illinois, United States',\n",
       "       'Half Moon Bay, California, United States',\n",
       "       'College Station, Texas, United States',\n",
       "       'North Miami Beach, Florida, United States',\n",
       "       'Walnut Creek, California, United States',\n",
       "       'Belmont, California, United States',\n",
       "       'Boston, Massachusetts, United States',\n",
       "       'Somerville, Massachusetts, United States'], dtype=object)"
      ]
     },
     "execution_count": 49,
     "metadata": {},
     "output_type": "execute_result"
    }
   ],
   "source": [
    "listings['host_location'].unique()"
   ]
  },
  {
   "cell_type": "code",
   "execution_count": 50,
   "metadata": {},
   "outputs": [
    {
     "data": {
      "text/plain": [
       "array(['Santa Clara', 'Palo Alto', 'Cupertino', 'Sunnyvale', 'San Jose',\n",
       "       'Mountain View', 'Saratoga', 'Morgan Hill', 'Los Altos',\n",
       "       'Los Gatos', 'Unincorporated Areas', 'Los Altos Hills', 'Milpitas',\n",
       "       'Campbell', 'Gilroy', 'Monte Sereno'], dtype=object)"
      ]
     },
     "execution_count": 50,
     "metadata": {},
     "output_type": "execute_result"
    }
   ],
   "source": [
    "listings['neighbourhood_cleansed'].unique()"
   ]
  },
  {
   "cell_type": "markdown",
   "metadata": {},
   "source": [
    "For the `host_location` column, it looks like many cities follow the format of 'city, state, country'. I can extract these by splitting each value by commas, and then taking the first element. Locations that do not follow this format are usually single cities, states, or countries. I have included some exclusions below where it is not clear if the location is in Santa Clara County or which city it is.\n",
    "\n",
    "For the `neighborhood_cleansed` column, I have excluded `Unincorporated Areas`, as this makes the exact city unclear."
   ]
  },
  {
   "cell_type": "code",
   "execution_count": 51,
   "metadata": {},
   "outputs": [],
   "source": [
    "# exclude locations that do not follow the typical format\n",
    "host_loc_exclusions = [\n",
    "    'California, United States',\n",
    "    'California',\n",
    "    'United States',\n",
    "    'Silicon Valley California',\n",
    "    'US',\n",
    "    'California, USA',\n",
    "    'Silicon Valley-Bay Area',\n",
    "    'Silicon Valley, California, United States',\n",
    "    'We live in the main home. ',\n",
    "    'Silicon Valley',\n",
    "    'CA Bay area',\n",
    "    'Silicon Valley, California',\n",
    "    'California     ',\n",
    "    'Bay Area, CA',\n",
    "    'Shanghai, Taiwan, US',\n",
    "    'Northern Calif and Southern Calif - Cannot decide which is better!!',\n",
    "    'California ',\n",
    "    '5 min from downtown',\n",
    "    'The Bay Area',\n",
    "    'USA'\n",
    "]\n",
    "listings_host_loc = listings[\n",
    "    listings['host_location'].notnull()\n",
    "    & ~listings['host_location'].isin(host_loc_exclusions)\n",
    "]\n",
    "listings_host_loc = listings_host_loc.query('neighbourhood_cleansed != \"Unincorporated Areas\"')"
   ]
  },
  {
   "cell_type": "code",
   "execution_count": 52,
   "metadata": {},
   "outputs": [],
   "source": [
    "listings_host_loc['location_cleansed'] = listings_host_loc['host_location'].apply(lambda loc: loc.split(',')[0])"
   ]
  },
  {
   "cell_type": "markdown",
   "metadata": {},
   "source": [
    "I will take a look at the number of remaining listings, which will be the denominator for my desired answer."
   ]
  },
  {
   "cell_type": "code",
   "execution_count": 53,
   "metadata": {},
   "outputs": [
    {
     "data": {
      "text/plain": [
       "4256"
      ]
     },
     "execution_count": 53,
     "metadata": {},
     "output_type": "execute_result"
    }
   ],
   "source": [
    "listings_host_loc.shape[0]"
   ]
  },
  {
   "cell_type": "markdown",
   "metadata": {},
   "source": [
    "Now I will create a boolean column that describes whether the `location_cleansed` is the same as the `neighbourhood_cleansed`."
   ]
  },
  {
   "cell_type": "code",
   "execution_count": 54,
   "metadata": {},
   "outputs": [],
   "source": [
    "listings_host_loc['host_same_location'] = \\\n",
    "    listings_host_loc['location_cleansed']==listings_host_loc['neighbourhood_cleansed']"
   ]
  },
  {
   "cell_type": "markdown",
   "metadata": {},
   "source": [
    "Now that I have this column, I can use 1 minus the mean of the column to get the proportion of listings that have a host that lives in a different city."
   ]
  },
  {
   "cell_type": "code",
   "execution_count": 55,
   "metadata": {},
   "outputs": [
    {
     "data": {
      "text/plain": [
       "0.4114191729323309"
      ]
     },
     "execution_count": 55,
     "metadata": {},
     "output_type": "execute_result"
    }
   ],
   "source": [
    "1-listings_host_loc['host_same_location'].mean()"
   ]
  },
  {
   "cell_type": "markdown",
   "metadata": {},
   "source": [
    "Now I want to examine this by `neighbourhood_cleansed`."
   ]
  },
  {
   "cell_type": "code",
   "execution_count": 56,
   "metadata": {},
   "outputs": [
    {
     "data": {
      "image/png": "[encoded data removed]",
      "text/plain": [
       "<Figure size 576x432 with 1 Axes>"
      ]
     },
     "metadata": {
      "needs_background": "light"
     },
     "output_type": "display_data"
    }
   ],
   "source": [
    "neighbourhood_order = listings_host_loc['neighbourhood_cleansed'].value_counts().index\n",
    "ordered_neighbourhood = pd.api.types.CategoricalDtype(categories=neighbourhood_order, ordered=True)\n",
    "listings_host_loc['neighbourhood_cleansed'] = \\\n",
    "    listings_host_loc['neighbourhood_cleansed'].astype(ordered_neighbourhood)\n",
    "plt.figure(figsize=[8, 6])\n",
    "sb.countplot(data=listings_host_loc, y='neighbourhood_cleansed', color=base_color);"
   ]
  },
  {
   "cell_type": "markdown",
   "metadata": {},
   "source": [
    "Again, the counts are highest for San Jose, and then this is followed by Sunnyvale, Santa Clara, Palo Alto, and Mountain View."
   ]
  },
  {
   "cell_type": "code",
   "execution_count": 57,
   "metadata": {},
   "outputs": [
    {
     "data": {
      "image/png": "[encoded data removed]",
      "text/plain": [
       "<Figure size 576x432 with 1 Axes>"
      ]
     },
     "metadata": {
      "needs_background": "light"
     },
     "output_type": "display_data"
    }
   ],
   "source": [
    "plt.figure(figsize=[8, 6])\n",
    "sb.barplot(data=listings_host_loc, x='host_same_location', y='neighbourhood_cleansed', color=base_color, ci=None);"
   ]
  },
  {
   "cell_type": "markdown",
   "metadata": {},
   "source": [
    "Sunnyvale, Santa Clara, Mountain View, Cupertino, Milpitas, Los Altos Hills, and Monte Sereno all have lower than 50% of listings that have hosts in the same city. Los Alto Hills is particularly low, with only about 25% of listings with hosts in the same location. It is also interesting that many of these neighborhoods are towards the left side of the visualization, meaning that they have a higher number of listings. On the other end of the spectrum, Los Gatos and Gilroy both stand out as having high percentages of hosts in the same city.\n",
    "\n",
    "Now I want to look at this same view by `room_type`."
   ]
  },
  {
   "cell_type": "code",
   "execution_count": 58,
   "metadata": {},
   "outputs": [
    {
     "data": {
      "image/png": "[encoded data removed]",
      "text/plain": [
       "<Figure size 576x432 with 1 Axes>"
      ]
     },
     "metadata": {
      "needs_background": "light"
     },
     "output_type": "display_data"
    }
   ],
   "source": [
    "room_order = listings_host_loc['room_type'].value_counts().index\n",
    "ordered_room = pd.api.types.CategoricalDtype(categories=room_order, ordered=True)\n",
    "listings_host_loc['room_type'] = listings_host_loc['room_type'].astype(ordered_room)\n",
    "plt.figure(figsize=[8, 6])\n",
    "sb.countplot(data=listings_host_loc, x='room_type', color=base_color);"
   ]
  },
  {
   "cell_type": "code",
   "execution_count": 59,
   "metadata": {},
   "outputs": [
    {
     "data": {
      "text/plain": [
       "Entire home/apt    2104\n",
       "Private room       1947\n",
       "Shared room         203\n",
       "Hotel room            2\n",
       "Name: room_type, dtype: int64"
      ]
     },
     "execution_count": 59,
     "metadata": {},
     "output_type": "execute_result"
    }
   ],
   "source": [
    "listings_host_loc['room_type'].value_counts()"
   ]
  },
  {
   "cell_type": "markdown",
   "metadata": {},
   "source": [
    "As with before, the count of shared rooms is a lot lower than the two largest types. And again, I will remove the `Hotel room` type since that will not be useful."
   ]
  },
  {
   "cell_type": "code",
   "execution_count": 60,
   "metadata": {},
   "outputs": [
    {
     "data": {
      "image/png": "[encoded data removed]",
      "text/plain": [
       "<Figure size 576x432 with 1 Axes>"
      ]
     },
     "metadata": {
      "needs_background": "light"
     },
     "output_type": "display_data"
    }
   ],
   "source": [
    "listings_host_loc_mod = listings_host_loc.query('room_type != \"Hotel room\"')\n",
    "listings_host_loc_mod['room_type'].cat.remove_unused_categories(inplace=True)\n",
    "plt.figure(figsize=[8, 6])\n",
    "sb.barplot(data=listings_host_loc_mod, x='room_type', y='host_same_location', color=base_color, ci=None);"
   ]
  },
  {
   "cell_type": "markdown",
   "metadata": {},
   "source": [
    "Interestingly, private rooms have a much higher proportion of listings with hosts in the same city, but entire homes/apartments are about equal to shared rooms.\n",
    "\n",
    "Finally, I will look at the distribution of `occupancy` faceted by `host_same_location`."
   ]
  },
  {
   "cell_type": "code",
   "execution_count": 61,
   "metadata": {},
   "outputs": [],
   "source": [
    "listings_host_loc['nights_per_year'] = run_sf_model(\n",
    "    listings_host_loc['reviews_per_month'],\n",
    "    listings_host_loc['minimum_nights']\n",
    ")\n",
    "listings_host_loc['occupancy'] = listings_host_loc['nights_per_year']/365"
   ]
  },
  {
   "cell_type": "code",
   "execution_count": 62,
   "metadata": {},
   "outputs": [
    {
     "data": {
      "image/png": "[encoded data removed]",
      "text/plain": [
       "<Figure size 720x360 with 2 Axes>"
      ]
     },
     "metadata": {
      "needs_background": "light"
     },
     "output_type": "display_data"
    }
   ],
   "source": [
    "bin_size = 0.02\n",
    "bins = np.arange(0, 0.7+bin_size, bin_size)\n",
    "sb.displot(\n",
    "    data=listings_host_loc,\n",
    "    x='occupancy',\n",
    "    col='host_same_location',\n",
    "    bins=bins,\n",
    "    stat='probability',\n",
    "    common_norm=False\n",
    ");"
   ]
  },
  {
   "cell_type": "markdown",
   "metadata": {},
   "source": [
    "Listings with hosts in the same city seem to have slightly lower occupancy, as evidenced by the location of the peak on the left side of the distribution, along with the fact that the peak at 70% occupancy is slightly shorter. However, I do not think the difference is noticeable enough to make any meaningful conclusions.\n",
    "\n",
    "### How many listings do hosts tend to have?\n",
    "\n",
    "If a host has multiple listings, this is possibly an indication that the host is running their Airbnbs more like a hotel, rather than just sharing their primary residence.\n",
    "\n",
    "First I want to see the distribution of `occupancy` faceted by hosts that have multiple listings, versus those that only have one. To do that, I will first create a boolean column that shows whether or not the listing is owned by someone who has multiple listings."
   ]
  },
  {
   "cell_type": "code",
   "execution_count": 63,
   "metadata": {},
   "outputs": [],
   "source": [
    "listings_occ['host_multi'] = listings_occ['calculated_host_listings_count']>1"
   ]
  },
  {
   "cell_type": "code",
   "execution_count": 64,
   "metadata": {},
   "outputs": [
    {
     "data": {
      "image/png": "[encoded data removed]",
      "text/plain": [
       "<Figure size 720x360 with 2 Axes>"
      ]
     },
     "metadata": {
      "needs_background": "light"
     },
     "output_type": "display_data"
    }
   ],
   "source": [
    "bin_size = 0.02\n",
    "bins = np.arange(0, 0.7+bin_size, bin_size)\n",
    "sb.displot(data=listings_occ, x='occupancy', col='host_multi', bins=bins, stat='probability', common_norm=False);"
   ]
  },
  {
   "cell_type": "markdown",
   "metadata": {},
   "source": [
    "I do not think I can draw any meaningful conclusions from this visualizations. Properties owned by people with only one listing tend to have a higher proportion with lower `occupancy`, but also a higher proportion that hit the 70% cap.\n",
    "\n",
    "Now I want to look at the distribution of hosts by the number of listings they have. The number of listings is located in the `calculated_host_listings_count` column; however, every row has this number for its respective host. To avoid counting hosts more than once, I will drop all rows with duplicate `host_id`. It does not matter which duplicates I drop, because every listing by a host has the same number in the `calculated_host_listings_count` column."
   ]
  },
  {
   "cell_type": "code",
   "execution_count": 65,
   "metadata": {},
   "outputs": [],
   "source": [
    "listings_unique_hosts = listings.drop_duplicates(subset='host_id')"
   ]
  },
  {
   "cell_type": "code",
   "execution_count": 66,
   "metadata": {},
   "outputs": [
    {
     "data": {
      "image/png": "[encoded data removed]",
      "text/plain": [
       "<Figure size 576x432 with 1 Axes>"
      ]
     },
     "metadata": {
      "needs_background": "light"
     },
     "output_type": "display_data"
    }
   ],
   "source": [
    "bin_size = 5\n",
    "bins = np.arange(0, listings_unique_hosts['calculated_host_listings_count'].max()+bin_size, bin_size)\n",
    "plt.figure(figsize=[8, 6])\n",
    "plt.hist(data=listings_unique_hosts, x='calculated_host_listings_count', bins=bins);"
   ]
  },
  {
   "cell_type": "markdown",
   "metadata": {},
   "source": [
    "The data appears to be right-skewed; most hosts have less than five properties, but the distribution goes up to a maximum of around 250. I will use a logarithmic scale, which might make the data easier to interpret."
   ]
  },
  {
   "cell_type": "code",
   "execution_count": 67,
   "metadata": {},
   "outputs": [
    {
     "data": {
      "image/png": "[encoded data removed]",
      "text/plain": [
       "<Figure size 576x432 with 1 Axes>"
      ]
     },
     "metadata": {
      "needs_background": "light"
     },
     "output_type": "display_data"
    }
   ],
   "source": [
    "log_bin_size = 0.2\n",
    "tick_labels = [1, 3, 10, 30, 100, 300]\n",
    "upper_log_bound = np.log10(listings_unique_hosts['calculated_host_listings_count'].max())\n",
    "bins = 10**np.arange(0, upper_log_bound+log_bin_size, log_bin_size)\n",
    "plt.figure(figsize=[8, 6])\n",
    "plt.hist(data=listings_unique_hosts, x='calculated_host_listings_count', bins=bins)\n",
    "plt.xscale('log')\n",
    "plt.xticks(tick_labels, tick_labels);"
   ]
  },
  {
   "cell_type": "markdown",
   "metadata": {},
   "source": [
    "This histogram makes it clear that the majority of hosts only have one listing, and there are very few that have more than 10. However, the right side of the distribution still is not easy to interpret, so I will look at the distribution one more time, this time only looking at hosts with multiple listings."
   ]
  },
  {
   "cell_type": "code",
   "execution_count": 68,
   "metadata": {},
   "outputs": [],
   "source": [
    "listings_unique_hosts_multi = listings_unique_hosts.query('calculated_host_listings_count > 1')"
   ]
  },
  {
   "cell_type": "code",
   "execution_count": 69,
   "metadata": {},
   "outputs": [
    {
     "data": {
      "image/png": "[encoded data removed]",
      "text/plain": [
       "<Figure size 576x432 with 1 Axes>"
      ]
     },
     "metadata": {
      "needs_background": "light"
     },
     "output_type": "display_data"
    }
   ],
   "source": [
    "log_bin_size = 0.2\n",
    "tick_labels = [1, 3, 10, 30, 100, 300]\n",
    "upper_log_bound = np.log10(listings_unique_hosts_multi['calculated_host_listings_count'].max())\n",
    "bins = 10**np.arange(0, upper_log_bound+log_bin_size, log_bin_size)\n",
    "plt.figure(figsize=[8, 6])\n",
    "plt.hist(data=listings_unique_hosts_multi, x='calculated_host_listings_count', bins=bins)\n",
    "plt.xscale('log')\n",
    "plt.xticks(tick_labels, tick_labels);"
   ]
  },
  {
   "cell_type": "markdown",
   "metadata": {},
   "source": [
    "This histogram shows a steep drop-off of hosts that have more than five listings. Furthermore, it is clear now that the highest amount of listings is somewhere around 300.\n",
    "\n",
    "I also want to calculate below the proportion of hosts with more than one property."
   ]
  },
  {
   "cell_type": "code",
   "execution_count": 70,
   "metadata": {},
   "outputs": [
    {
     "data": {
      "text/plain": [
       "0.3052290231049858"
      ]
     },
     "execution_count": 70,
     "metadata": {},
     "output_type": "execute_result"
    }
   ],
   "source": [
    "listings_unique_hosts_multi.shape[0]/listings_unique_hosts.shape[0]"
   ]
  },
  {
   "cell_type": "markdown",
   "metadata": {},
   "source": [
    "I am curious to see who the hosts with the highest amount of listings are -- are they realtors, hotel owners, or something else? I will show the top 10 hosts below and their descriptions."
   ]
  },
  {
   "cell_type": "code",
   "execution_count": 71,
   "metadata": {},
   "outputs": [
    {
     "name": "stderr",
     "output_type": "stream",
     "text": [
      "/opt/anaconda3/lib/python3.7/site-packages/ipykernel_launcher.py:1: SettingWithCopyWarning: \n",
      "A value is trying to be set on a copy of a slice from a DataFrame\n",
      "\n",
      "See the caveats in the documentation: https://pandas.pydata.org/pandas-docs/stable/user_guide/indexing.html#returning-a-view-versus-a-copy\n",
      "  \"\"\"Entry point for launching an IPython kernel.\n"
     ]
    },
    {
     "data": {
      "text/html": [
       "<div>\n",
       "<style scoped>\n",
       "    .dataframe tbody tr th:only-of-type {\n",
       "        vertical-align: middle;\n",
       "    }\n",
       "\n",
       "    .dataframe tbody tr th {\n",
       "        vertical-align: top;\n",
       "    }\n",
       "\n",
       "    .dataframe thead th {\n",
       "        text-align: right;\n",
       "    }\n",
       "</style>\n",
       "<table border=\"1\" class=\"dataframe\">\n",
       "  <thead>\n",
       "    <tr style=\"text-align: right;\">\n",
       "      <th></th>\n",
       "      <th>host_name</th>\n",
       "      <th>host_about</th>\n",
       "      <th>calculated_host_listings_count</th>\n",
       "    </tr>\n",
       "  </thead>\n",
       "  <tbody>\n",
       "    <tr>\n",
       "      <th>991</th>\n",
       "      <td>Zeus</td>\n",
       "      <td>We built Zeus Living so you can feel at home w...</td>\n",
       "      <td>252</td>\n",
       "    </tr>\n",
       "    <tr>\n",
       "      <th>4578</th>\n",
       "      <td>Kia</td>\n",
       "      <td>NaN</td>\n",
       "      <td>141</td>\n",
       "    </tr>\n",
       "    <tr>\n",
       "      <th>2965</th>\n",
       "      <td>Jefferson</td>\n",
       "      <td>I am a Fine art teacher, writer and Cameraman....</td>\n",
       "      <td>89</td>\n",
       "    </tr>\n",
       "    <tr>\n",
       "      <th>690</th>\n",
       "      <td>Tribe</td>\n",
       "      <td>TRIBE is a travel lifestyle brand, here to bri...</td>\n",
       "      <td>73</td>\n",
       "    </tr>\n",
       "    <tr>\n",
       "      <th>39</th>\n",
       "      <td>Vic</td>\n",
       "      <td>where i've been...\\nromantic hangout: paris\\nm...</td>\n",
       "      <td>53</td>\n",
       "    </tr>\n",
       "    <tr>\n",
       "      <th>3086</th>\n",
       "      <td>Blueground</td>\n",
       "      <td>Why take a chance picking &amp; choosing between s...</td>\n",
       "      <td>52</td>\n",
       "    </tr>\n",
       "    <tr>\n",
       "      <th>1326</th>\n",
       "      <td>Iz</td>\n",
       "      <td>I love creating affordable co-living spaces to...</td>\n",
       "      <td>37</td>\n",
       "    </tr>\n",
       "    <tr>\n",
       "      <th>612</th>\n",
       "      <td>Urban Flat</td>\n",
       "      <td>An Urban Flat is private furnished-apartment t...</td>\n",
       "      <td>34</td>\n",
       "    </tr>\n",
       "    <tr>\n",
       "      <th>1452</th>\n",
       "      <td>Bluebird</td>\n",
       "      <td>You’ve just found the best of both worlds. Blu...</td>\n",
       "      <td>30</td>\n",
       "    </tr>\n",
       "    <tr>\n",
       "      <th>151</th>\n",
       "      <td>Kathy</td>\n",
       "      <td>NaN</td>\n",
       "      <td>27</td>\n",
       "    </tr>\n",
       "  </tbody>\n",
       "</table>\n",
       "</div>"
      ],
      "text/plain": [
       "       host_name                                         host_about  \\\n",
       "991         Zeus  We built Zeus Living so you can feel at home w...   \n",
       "4578         Kia                                                NaN   \n",
       "2965   Jefferson  I am a Fine art teacher, writer and Cameraman....   \n",
       "690        Tribe  TRIBE is a travel lifestyle brand, here to bri...   \n",
       "39           Vic  where i've been...\\nromantic hangout: paris\\nm...   \n",
       "3086  Blueground  Why take a chance picking & choosing between s...   \n",
       "1326          Iz  I love creating affordable co-living spaces to...   \n",
       "612   Urban Flat  An Urban Flat is private furnished-apartment t...   \n",
       "1452    Bluebird  You’ve just found the best of both worlds. Blu...   \n",
       "151        Kathy                                                NaN   \n",
       "\n",
       "      calculated_host_listings_count  \n",
       "991                              252  \n",
       "4578                             141  \n",
       "2965                              89  \n",
       "690                               73  \n",
       "39                                53  \n",
       "3086                              52  \n",
       "1326                              37  \n",
       "612                               34  \n",
       "1452                              30  \n",
       "151                               27  "
      ]
     },
     "execution_count": 71,
     "metadata": {},
     "output_type": "execute_result"
    }
   ],
   "source": [
    "listings_unique_hosts.sort_values('calculated_host_listings_count', ascending=False, inplace=True)\n",
    "listings_unique_hosts[['host_name', 'host_about', 'calculated_host_listings_count']].head(10)"
   ]
  },
  {
   "cell_type": "markdown",
   "metadata": {},
   "source": [
    "Interestingly, a lot of these do not seem to be individuals, but rather companies that own properties. This is evidenced by the `host_name`, some of which do not seem to be regular, everyday names, and also the `host_about`, where it is clearly stated in some cases that the host is a company. This seems to be very much against Airbnb's original intent for individuals to rent out their own spaces.\n",
    "\n",
    "### What features best predict how many listings a host has?\n",
    "\n",
    "Given the above evidence that there are some hosts are entire companies, I want to figure out which features are best to flag listings marketed by one of these multi-property owners. To do that, I will use a linear regression with `calculated_host_listings_count` as the response variable. First, I will need eliminate any columns that I believe will not be useful for the regression."
   ]
  },
  {
   "cell_type": "code",
   "execution_count": 72,
   "metadata": {},
   "outputs": [],
   "source": [
    "X = listings.drop([\n",
    "    'id',\n",
    "    'listing_url',\n",
    "    'scrape_id',\n",
    "    'last_scraped',\n",
    "    'name',\n",
    "    'description',\n",
    "    'neighborhood_overview',\n",
    "    'picture_url',\n",
    "    'host_id',\n",
    "    'host_url',\n",
    "    'host_name',\n",
    "    'host_about',\n",
    "    'host_thumbnail_url',\n",
    "    'host_picture_url',\n",
    "    'host_neighbourhood',\n",
    "    'host_listings_count',\n",
    "    'host_total_listings_count',\n",
    "    'neighbourhood',\n",
    "    'property_type',\n",
    "    'bathrooms_text',\n",
    "    'has_availability',\n",
    "    'calendar_last_scraped'\n",
    "], axis=1)"
   ]
  },
  {
   "cell_type": "code",
   "execution_count": 73,
   "metadata": {},
   "outputs": [
    {
     "name": "stdout",
     "output_type": "stream",
     "text": [
      "<class 'pandas.core.frame.DataFrame'>\n",
      "RangeIndex: 5185 entries, 0 to 5184\n",
      "Data columns (total 50 columns):\n",
      " #   Column                                        Non-Null Count  Dtype         \n",
      "---  ------                                        --------------  -----         \n",
      " 0   host_since                                    5185 non-null   datetime64[ns]\n",
      " 1   host_location                                 5172 non-null   object        \n",
      " 2   host_response_time                            4167 non-null   object        \n",
      " 3   host_response_rate                            4167 non-null   float64       \n",
      " 4   host_acceptance_rate                          4559 non-null   float64       \n",
      " 5   host_is_superhost                             5185 non-null   bool          \n",
      " 6   host_verifications                            5185 non-null   object        \n",
      " 7   host_has_profile_pic                          5185 non-null   bool          \n",
      " 8   host_identity_verified                        5185 non-null   bool          \n",
      " 9   neighbourhood_cleansed                        5185 non-null   object        \n",
      " 10  latitude                                      5185 non-null   float64       \n",
      " 11  longitude                                     5185 non-null   float64       \n",
      " 12  room_type                                     5185 non-null   object        \n",
      " 13  accommodates                                  5185 non-null   int64         \n",
      " 14  bedrooms                                      4879 non-null   float64       \n",
      " 15  beds                                          5132 non-null   float64       \n",
      " 16  amenities                                     5185 non-null   object        \n",
      " 17  price                                         5185 non-null   float64       \n",
      " 18  minimum_nights                                5185 non-null   int64         \n",
      " 19  maximum_nights                                5185 non-null   int64         \n",
      " 20  minimum_minimum_nights                        5184 non-null   float64       \n",
      " 21  maximum_minimum_nights                        5184 non-null   float64       \n",
      " 22  minimum_maximum_nights                        5184 non-null   float64       \n",
      " 23  maximum_maximum_nights                        5184 non-null   float64       \n",
      " 24  minimum_nights_avg_ntm                        5184 non-null   float64       \n",
      " 25  maximum_nights_avg_ntm                        5184 non-null   float64       \n",
      " 26  availability_30                               5185 non-null   int64         \n",
      " 27  availability_60                               5185 non-null   int64         \n",
      " 28  availability_90                               5185 non-null   int64         \n",
      " 29  availability_365                              5185 non-null   int64         \n",
      " 30  number_of_reviews                             5185 non-null   int64         \n",
      " 31  number_of_reviews_ltm                         5185 non-null   int64         \n",
      " 32  number_of_reviews_l30d                        5185 non-null   int64         \n",
      " 33  first_review                                  4113 non-null   datetime64[ns]\n",
      " 34  last_review                                   4113 non-null   datetime64[ns]\n",
      " 35  review_scores_rating                          4075 non-null   float64       \n",
      " 36  review_scores_accuracy                        4073 non-null   float64       \n",
      " 37  review_scores_cleanliness                     4073 non-null   float64       \n",
      " 38  review_scores_checkin                         4072 non-null   float64       \n",
      " 39  review_scores_communication                   4073 non-null   float64       \n",
      " 40  review_scores_location                        4072 non-null   float64       \n",
      " 41  review_scores_value                           4072 non-null   float64       \n",
      " 42  instant_bookable                              5185 non-null   bool          \n",
      " 43  calculated_host_listings_count                5185 non-null   int64         \n",
      " 44  calculated_host_listings_count_entire_homes   5185 non-null   int64         \n",
      " 45  calculated_host_listings_count_private_rooms  5185 non-null   int64         \n",
      " 46  calculated_host_listings_count_shared_rooms   5185 non-null   int64         \n",
      " 47  reviews_per_month                             4113 non-null   float64       \n",
      " 48  bathrooms                                     5179 non-null   float64       \n",
      " 49  bathrooms_type                                5179 non-null   object        \n",
      "dtypes: bool(4), datetime64[ns](3), float64(22), int64(14), object(7)\n",
      "memory usage: 1.8+ MB\n"
     ]
    }
   ],
   "source": [
    "X.info()"
   ]
  },
  {
   "cell_type": "markdown",
   "metadata": {},
   "source": [
    "Based on the above information, there is some cleaning I need to do before creating the model. Because Scikit-learn's linear regression does not allow any null values, I will need to take care of those. But first, I will create some additional features that I think might be useful for the regression. First, I will to find the length of each list in the columns `host_verifications` and `amenities`."
   ]
  },
  {
   "cell_type": "code",
   "execution_count": 74,
   "metadata": {},
   "outputs": [],
   "source": [
    "X['num_host_verifications'] = pd.Series([len(_list) for _list in listings['host_verifications']])\n",
    "X['num_amenities'] = pd.Series([len(_list) for _list in listings['amenities']])"
   ]
  },
  {
   "cell_type": "markdown",
   "metadata": {},
   "source": [
    "I also want to include the proportion of entire homes, private rooms, and shared rooms owned by the host. However, I do not want to include the absolute number, as this will obviously be correlated with the total number of listings. Therefore, I will drop the columns with listing counts after creating the columns with proportions."
   ]
  },
  {
   "cell_type": "code",
   "execution_count": 75,
   "metadata": {},
   "outputs": [],
   "source": [
    "listings_count = ['entire_homes', 'private_rooms', 'shared_rooms']\n",
    "for col in listings_count:\n",
    "    X['calculated_host_listings_prop_'+col] = \\\n",
    "        X['calculated_host_listings_count_'+col]/X['calculated_host_listings_count']\n",
    "    X.drop('calculated_host_listings_count_'+col, axis=1, inplace=True)\n",
    "X.drop('calculated_host_listings_count', axis=1, inplace=True)"
   ]
  },
  {
   "cell_type": "markdown",
   "metadata": {},
   "source": [
    "I will also change all columns with the datetime data type to integers. However, the `first_review` and `last_review` columns contain some null dates, likely because these listings have not received reviews yet. In order to indicate that these first and last reviews will occur in the future, I will use the date that is one day after the listings were `last_scraped`, on 10/25/20."
   ]
  },
  {
   "cell_type": "code",
   "execution_count": 76,
   "metadata": {},
   "outputs": [],
   "source": [
    "X_datetime = X.select_dtypes(include=['datetime64[ns]']).columns\n",
    "# use one day after listings listings were last_scraped as the future_date\n",
    "future_date = pd.to_datetime(listings['last_scraped'].unique()[0]).toordinal()+1\n",
    "for col in X_datetime:\n",
    "    X[col] = X[col].apply(lambda date: date.toordinal() if pd.notnull(date) else future_date)"
   ]
  },
  {
   "cell_type": "markdown",
   "metadata": {},
   "source": [
    "I also want a column that describes whether hosts are in the same city as their listings. I will create a function similar to the one I used previously, but this one will have `try` and `except` blocks since there are some NaN values that do not allow me to use the same lambda function as before."
   ]
  },
  {
   "cell_type": "code",
   "execution_count": 77,
   "metadata": {},
   "outputs": [],
   "source": [
    "def extract_city(location_string):\n",
    "    '''\n",
    "    INPUT:\n",
    "    location_string (str) - location name; can be city, state, and country separated by commas\n",
    "    \n",
    "    OUTPUT:\n",
    "    location_cleansed (str) - only the city name, if noted\n",
    "    \n",
    "    Split a location name by commas and take the first element of the result to get the city name, if noted.\n",
    "    '''\n",
    "    \n",
    "    try:\n",
    "        location_cleansed = location_string.split(',')[0]\n",
    "    except:\n",
    "        location_cleansed = 'None'\n",
    "    return location_cleansed"
   ]
  },
  {
   "cell_type": "code",
   "execution_count": 78,
   "metadata": {},
   "outputs": [],
   "source": [
    "X['location_cleansed'] = X['host_location'].apply(extract_city)\n",
    "X['host_same_location'] = X['location_cleansed']==X['neighbourhood_cleansed']\n",
    "X.drop(['host_location', 'location_cleansed'], axis=1, inplace=True)"
   ]
  },
  {
   "cell_type": "markdown",
   "metadata": {},
   "source": [
    "Now I want to create a column for every single unique value in `host_verifications` and `amenities`, and these columns will describe whether the list in those columns contains a given value. In order to do this, I will first need a way to find every single unique value in those lists. This will be done with a function that generates a series containing every value in every list."
   ]
  },
  {
   "cell_type": "code",
   "execution_count": 79,
   "metadata": {},
   "outputs": [],
   "source": [
    "def transform_to_1D(series):\n",
    "    '''\n",
    "    INPUT:\n",
    "    series (Series) - column with lists\n",
    "    \n",
    "    OUTPUT:\n",
    "    all_values (Series) - every value from every list in the original column\n",
    "    \n",
    "    Convert a Pandas series with lists into a single Pandas series with every value.\n",
    "    '''\n",
    "    \n",
    "    all_values = pd.Series([x for _list in series for x in _list])\n",
    "    return all_values"
   ]
  },
  {
   "cell_type": "markdown",
   "metadata": {},
   "source": [
    "Using the above function, I can now create another function that converts each unique value in those columns with lists into its own column."
   ]
  },
  {
   "cell_type": "code",
   "execution_count": 80,
   "metadata": {},
   "outputs": [],
   "source": [
    "def create_bool_from_list(df, list_col):\n",
    "    '''\n",
    "    INPUT:\n",
    "    df (DataFrame) - dataframe containing the column of interest\n",
    "    list_col (str) - column with lists\n",
    "    \n",
    "    OUTPUT:\n",
    "    None\n",
    "    \n",
    "    For each unique value in a column with lists,\n",
    "    create a new boolean column to denote whether a row's list contains that value,\n",
    "    then drop the column with lists.\n",
    "    '''\n",
    "    \n",
    "    for value in transform_to_1D(df[list_col]).value_counts().index:\n",
    "        df[list_col+'_'+value] = df[list_col].apply(lambda _list: value in _list)\n",
    "    df.drop(list_col, axis=1, inplace=True)"
   ]
  },
  {
   "cell_type": "code",
   "execution_count": 81,
   "metadata": {},
   "outputs": [],
   "source": [
    "create_bool_from_list(X, 'host_verifications')\n",
    "create_bool_from_list(X, 'amenities')"
   ]
  },
  {
   "cell_type": "markdown",
   "metadata": {},
   "source": [
    "Now I will plots the distributions of numeric columns with missing values to determine how I should deal with those missing values."
   ]
  },
  {
   "cell_type": "code",
   "execution_count": 82,
   "metadata": {},
   "outputs": [
    {
     "data": {
      "image/png": "[encoded data removed]",
      "text/plain": [
       "<Figure size 1080x1440 with 20 Axes>"
      ]
     },
     "metadata": {
      "needs_background": "light"
     },
     "output_type": "display_data"
    }
   ],
   "source": [
    "X_null_num = X.columns[X.isnull().sum()>0]\n",
    "X_null_num = list(X[X_null_num].select_dtypes(exclude=['object']).columns)\n",
    "X[X_null_num].hist(bins=20, figsize=(15,20));"
   ]
  },
  {
   "cell_type": "markdown",
   "metadata": {},
   "source": [
    "For the `reviews_per_month` column, if there is a missing value, that likely means that the listing just has not received any reviews. Therefore, I will impute those with 0. Otherwise, since the rest of these columns are skewed to the left or right and have outliers, I will impute values using each column's median."
   ]
  },
  {
   "cell_type": "code",
   "execution_count": 83,
   "metadata": {},
   "outputs": [],
   "source": [
    "# do not impute reviews_per_month with 0\n",
    "X_null_num.remove('reviews_per_month')\n",
    "X['reviews_per_month'].fillna(0, inplace=True)"
   ]
  },
  {
   "cell_type": "code",
   "execution_count": 84,
   "metadata": {},
   "outputs": [],
   "source": [
    "for col in X_null_num:\n",
    "    X[col].fillna(X[col].median(), inplace=True)"
   ]
  },
  {
   "cell_type": "markdown",
   "metadata": {},
   "source": [
    "For the categorical variables, I will create dummy columns. If the original column has missing values, I will also create an additional column that denotes whether the value was missing."
   ]
  },
  {
   "cell_type": "code",
   "execution_count": 85,
   "metadata": {},
   "outputs": [],
   "source": [
    "X_cat = list(X.select_dtypes(include=['object']).columns)\n",
    "for col in X_cat:\n",
    "    if X[col].isnull().sum() == 0:\n",
    "        X = pd.concat([X, pd.get_dummies(X[col], prefix=col, drop_first=True)], axis=1)\n",
    "    else:\n",
    "        X = pd.concat([X, pd.get_dummies(X[col], prefix=col, drop_first=True, dummy_na=True)], axis=1)\n",
    "    X.drop(col, axis=1, inplace=True)"
   ]
  },
  {
   "cell_type": "markdown",
   "metadata": {},
   "source": [
    "My explanatory variables should now be ready to use in the linear regression. I will do one last check to find out how many features I have now and whether there are any more missing values."
   ]
  },
  {
   "cell_type": "code",
   "execution_count": 86,
   "metadata": {},
   "outputs": [
    {
     "name": "stdout",
     "output_type": "stream",
     "text": [
      "<class 'pandas.core.frame.DataFrame'>\n",
      "RangeIndex: 5185 entries, 0 to 5184\n",
      "Columns: 298 entries, host_since to bathrooms_type_nan\n",
      "dtypes: bool(234), float64(25), int64(15), uint8(24)\n",
      "memory usage: 2.9 MB\n"
     ]
    }
   ],
   "source": [
    "X.info()"
   ]
  },
  {
   "cell_type": "code",
   "execution_count": 87,
   "metadata": {},
   "outputs": [
    {
     "data": {
      "text/plain": [
       "0"
      ]
     },
     "execution_count": 87,
     "metadata": {},
     "output_type": "execute_result"
    }
   ],
   "source": [
    "X.isnull().sum().sum()"
   ]
  },
  {
   "cell_type": "markdown",
   "metadata": {},
   "source": [
    "Now I can use `calculated_host_listings_count` as the response variable and run the linear regression. In this model, I will test several thresholds; if the sum of a column is greater than the threshold, then I will keep the column. This means that the lower the threshold, the more features there will be. This will help ensure that I am testing different numbers of features for the highest possible r-squared value, and also getting rid of any variables that are only applicable to a few listings and do not have much variability."
   ]
  },
  {
   "cell_type": "code",
   "execution_count": 88,
   "metadata": {},
   "outputs": [],
   "source": [
    "y = listings['calculated_host_listings_count']"
   ]
  },
  {
   "cell_type": "code",
   "execution_count": 89,
   "metadata": {},
   "outputs": [
    {
     "data": {
      "text/plain": [
       "(0.7419258347602204, 0.7491349488483019)"
      ]
     },
     "execution_count": 89,
     "metadata": {},
     "output_type": "execute_result"
    }
   ],
   "source": [
    "thresholds = [25, 50, 250, 500, 1250, 2500]\n",
    "r2_score_test_best = 0\n",
    "for threshold in thresholds:\n",
    "    # reduce the features down to those that have a sum higher than the threshold\n",
    "    X_reduced = X.iloc[:, np.where((X.sum()>threshold) == True)[0]]\n",
    "    X_train, X_test, y_train, y_test = train_test_split(X_reduced, y, test_size=0.3, random_state=42)\n",
    "    price_model = LinearRegression(normalize=True)\n",
    "    price_model.fit(X_train, y_train)\n",
    "    y_train_preds = price_model.predict(X_train)\n",
    "    y_test_preds = price_model.predict(X_test)\n",
    "    r2_score_test = r2_score(y_test, y_test_preds)\n",
    "    # store data on the model that has the highest r-squared score on the test data\n",
    "    if r2_score_test > r2_score_test_best:\n",
    "        price_model_best = price_model\n",
    "        r2_score_test_best = r2_score_test\n",
    "        r2_score_train_best = r2_score(y_train, y_train_preds)\n",
    "        X_train_best = X_train\n",
    "        X_test_best = X_test\n",
    "        y_train_best = y_train\n",
    "        y_test_best = y_test\n",
    "        threshold_best = threshold\n",
    "r2_score_train_best, r2_score_test_best"
   ]
  },
  {
   "cell_type": "markdown",
   "metadata": {},
   "source": [
    "The r-squared score for the training and test data are both high, which is good and indicates that there is not overfitting on one set or the other. I will now take a look at the top 20 features, and since I normalized the regression, the absolute values of the coefficients determine their importance in the model."
   ]
  },
  {
   "cell_type": "code",
   "execution_count": 90,
   "metadata": {},
   "outputs": [
    {
     "data": {
      "text/html": [
       "<div>\n",
       "<style scoped>\n",
       "    .dataframe tbody tr th:only-of-type {\n",
       "        vertical-align: middle;\n",
       "    }\n",
       "\n",
       "    .dataframe tbody tr th {\n",
       "        vertical-align: top;\n",
       "    }\n",
       "\n",
       "    .dataframe thead th {\n",
       "        text-align: right;\n",
       "    }\n",
       "</style>\n",
       "<table border=\"1\" class=\"dataframe\">\n",
       "  <thead>\n",
       "    <tr style=\"text-align: right;\">\n",
       "      <th></th>\n",
       "      <th>var</th>\n",
       "      <th>coefs</th>\n",
       "      <th>abs_coefs</th>\n",
       "    </tr>\n",
       "  </thead>\n",
       "  <tbody>\n",
       "    <tr>\n",
       "      <th>0</th>\n",
       "      <td>amenities_Cooking basics</td>\n",
       "      <td>-36.000491</td>\n",
       "      <td>36.000491</td>\n",
       "    </tr>\n",
       "    <tr>\n",
       "      <th>1</th>\n",
       "      <td>host_verifications_work_email</td>\n",
       "      <td>29.333173</td>\n",
       "      <td>29.333173</td>\n",
       "    </tr>\n",
       "    <tr>\n",
       "      <th>2</th>\n",
       "      <td>host_response_time_nan</td>\n",
       "      <td>-22.617490</td>\n",
       "      <td>22.617490</td>\n",
       "    </tr>\n",
       "    <tr>\n",
       "      <th>3</th>\n",
       "      <td>host_verifications_government_id</td>\n",
       "      <td>22.563410</td>\n",
       "      <td>22.563410</td>\n",
       "    </tr>\n",
       "    <tr>\n",
       "      <th>4</th>\n",
       "      <td>host_response_rate</td>\n",
       "      <td>22.325974</td>\n",
       "      <td>22.325974</td>\n",
       "    </tr>\n",
       "    <tr>\n",
       "      <th>5</th>\n",
       "      <td>host_response_time_within a day</td>\n",
       "      <td>-20.567680</td>\n",
       "      <td>20.567680</td>\n",
       "    </tr>\n",
       "    <tr>\n",
       "      <th>6</th>\n",
       "      <td>amenities_Free street parking</td>\n",
       "      <td>-18.585328</td>\n",
       "      <td>18.585328</td>\n",
       "    </tr>\n",
       "    <tr>\n",
       "      <th>7</th>\n",
       "      <td>amenities_Extra pillows and blankets</td>\n",
       "      <td>17.627569</td>\n",
       "      <td>17.627569</td>\n",
       "    </tr>\n",
       "    <tr>\n",
       "      <th>8</th>\n",
       "      <td>amenities_Stove</td>\n",
       "      <td>16.172492</td>\n",
       "      <td>16.172492</td>\n",
       "    </tr>\n",
       "    <tr>\n",
       "      <th>9</th>\n",
       "      <td>calculated_host_listings_prop_entire_homes</td>\n",
       "      <td>-15.159956</td>\n",
       "      <td>15.159956</td>\n",
       "    </tr>\n",
       "    <tr>\n",
       "      <th>10</th>\n",
       "      <td>amenities_Oven</td>\n",
       "      <td>15.064931</td>\n",
       "      <td>15.064931</td>\n",
       "    </tr>\n",
       "    <tr>\n",
       "      <th>11</th>\n",
       "      <td>calculated_host_listings_prop_private_rooms</td>\n",
       "      <td>-14.353899</td>\n",
       "      <td>14.353899</td>\n",
       "    </tr>\n",
       "    <tr>\n",
       "      <th>12</th>\n",
       "      <td>host_verifications_reviews</td>\n",
       "      <td>14.338163</td>\n",
       "      <td>14.338163</td>\n",
       "    </tr>\n",
       "    <tr>\n",
       "      <th>13</th>\n",
       "      <td>amenities_Gym</td>\n",
       "      <td>14.057363</td>\n",
       "      <td>14.057363</td>\n",
       "    </tr>\n",
       "    <tr>\n",
       "      <th>14</th>\n",
       "      <td>host_identity_verified</td>\n",
       "      <td>14.031411</td>\n",
       "      <td>14.031411</td>\n",
       "    </tr>\n",
       "    <tr>\n",
       "      <th>15</th>\n",
       "      <td>amenities_Bathtub</td>\n",
       "      <td>-13.543248</td>\n",
       "      <td>13.543248</td>\n",
       "    </tr>\n",
       "    <tr>\n",
       "      <th>16</th>\n",
       "      <td>amenities_Dishes and silverware</td>\n",
       "      <td>13.447286</td>\n",
       "      <td>13.447286</td>\n",
       "    </tr>\n",
       "    <tr>\n",
       "      <th>17</th>\n",
       "      <td>amenities_Baking sheet</td>\n",
       "      <td>-12.975373</td>\n",
       "      <td>12.975373</td>\n",
       "    </tr>\n",
       "    <tr>\n",
       "      <th>18</th>\n",
       "      <td>neighbourhood_cleansed_Cupertino</td>\n",
       "      <td>12.818487</td>\n",
       "      <td>12.818487</td>\n",
       "    </tr>\n",
       "    <tr>\n",
       "      <th>19</th>\n",
       "      <td>host_verifications_offline_government_id</td>\n",
       "      <td>-12.330121</td>\n",
       "      <td>12.330121</td>\n",
       "    </tr>\n",
       "  </tbody>\n",
       "</table>\n",
       "</div>"
      ],
      "text/plain": [
       "                                            var      coefs  abs_coefs\n",
       "0                      amenities_Cooking basics -36.000491  36.000491\n",
       "1                 host_verifications_work_email  29.333173  29.333173\n",
       "2                        host_response_time_nan -22.617490  22.617490\n",
       "3              host_verifications_government_id  22.563410  22.563410\n",
       "4                            host_response_rate  22.325974  22.325974\n",
       "5               host_response_time_within a day -20.567680  20.567680\n",
       "6                 amenities_Free street parking -18.585328  18.585328\n",
       "7          amenities_Extra pillows and blankets  17.627569  17.627569\n",
       "8                               amenities_Stove  16.172492  16.172492\n",
       "9    calculated_host_listings_prop_entire_homes -15.159956  15.159956\n",
       "10                               amenities_Oven  15.064931  15.064931\n",
       "11  calculated_host_listings_prop_private_rooms -14.353899  14.353899\n",
       "12                   host_verifications_reviews  14.338163  14.338163\n",
       "13                                amenities_Gym  14.057363  14.057363\n",
       "14                       host_identity_verified  14.031411  14.031411\n",
       "15                            amenities_Bathtub -13.543248  13.543248\n",
       "16              amenities_Dishes and silverware  13.447286  13.447286\n",
       "17                       amenities_Baking sheet -12.975373  12.975373\n",
       "18             neighbourhood_cleansed_Cupertino  12.818487  12.818487\n",
       "19     host_verifications_offline_government_id -12.330121  12.330121"
      ]
     },
     "execution_count": 90,
     "metadata": {},
     "output_type": "execute_result"
    }
   ],
   "source": [
    "coefs = pd.DataFrame()\n",
    "coefs['var'] = X_train_best.columns\n",
    "coefs['coefs'] = price_model_best.coef_\n",
    "coefs['abs_coefs'] = np.abs(price_model_best.coef_)\n",
    "coefs = coefs.sort_values('abs_coefs', ascending=False)\n",
    "coefs = coefs.reset_index(drop=True)\n",
    "coefs.head(20)"
   ]
  },
  {
   "cell_type": "markdown",
   "metadata": {},
   "source": [
    "It looks like the types of amenities a listing has, the types of verifications the host has, the response time and rate of the host, and the proportion of entire homes/apartments and private rooms owned by the host are all important features in determining how many properties a listing's host has.\n",
    "\n",
    "<a id='results'></a>\n",
    "## Results\n",
    "\n",
    "### How often are Airbnb listings occupied?\n",
    "\n",
    "Using Inside Airbnb's San Francisco Model, the distribution for Airbnb occupancy hits a peak at around 5% and then gradually decreases until it reaches the maximum of 70%, at which point the number of listings shoots up. In fact, about 17% of all operating Airbnbs are at this maximum. This is likely due to the model being capped at 70%, so any listings that might have had higher occupancy were still adjusted down to make the model reasonable and conservative. Additionally, the occupancy distribution differs between various room types. Entire homes/apartments have the highest occupancy, followed by private rooms and then shared rooms.\n",
    "\n",
    "### Do Airbnbs generate more income per month than long-term rentals?\n",
    "\n",
    "Among all listings, the median Airbnb income per month is lower than the median Santa Clara County monthly long-term rent of $2,392. However, if the listings are narrowed down to those that are booked for at least one-third of the year, the median Airbnb income per month for entire homes/apartments becomes about equivalent to the median long-term rent. This threshold of one-third of the year is not unreasonably difficult to attain, given that around 40% of listings are able to. Of course, the number of people that a property accommodates also matters -- for entire homes/apartments, only those that accommodate at least four people and reach the one-third year threshold have a median higher than the median long-term rent.\n",
    "\n",
    "### What percentage of listings have a host that lives in a different city than the listing location?\n",
    "\n",
    "After narrowing down the dataset to records that have definitive host and property locations, I found that about 41% of listings have a host that lives in a different city than the listing location. Interestingly, many of the cities with higher amounts of Airbnb properties also have lower percentages of listings with hosts in the same city.\n",
    "\n",
    "### How many listings do hosts tend to have?\n",
    "\n",
    "About 31% of hosts have more than one listing and for those that have multiple, most have less than five. However, the maximum number of listings for a single host is 252, and many of the top property owners seem to be companies rather than individuals.\n",
    "\n",
    "### What features best predict how many listings a host has?\n",
    "\n",
    "The types of amenities a listing has, the types of verifications the host has, the response time and rate of the host, and the proportion of entire homes/apartments and private rooms owned by the host best predict the number of properties a listing's host has.\n",
    "\n",
    "### Explanatory Data Visualizations\n",
    "\n",
    "I will now clean up some of the exploratory visualizations from above so that they can be deployed as explanatory visualizations."
   ]
  },
  {
   "cell_type": "code",
   "execution_count": 91,
   "metadata": {},
   "outputs": [
    {
     "data": {
      "image/png": "[encoded data removed]",
      "text/plain": [
       "<Figure size 864x648 with 1 Axes>"
      ]
     },
     "metadata": {
      "needs_background": "light"
     },
     "output_type": "display_data"
    }
   ],
   "source": [
    "plt.figure(figsize=[12, 9])\n",
    "bin_size = 0.02\n",
    "bins = np.arange(0, 0.7+bin_size, bin_size)\n",
    "tick_locs = np.arange(0, 0.8, 0.1)\n",
    "tick_labels = ['{:.0f}%'.format(v) for v in tick_locs*100]\n",
    "plt.hist(data=listings_occ, x='occupancy', bins=bins)\n",
    "plt.title('Distribution of Occupancy')\n",
    "plt.xlabel('Occupancy')\n",
    "plt.ylabel('Number of Listings')\n",
    "plt.xticks(tick_locs, tick_labels);"
   ]
  },
  {
   "cell_type": "code",
   "execution_count": 92,
   "metadata": {},
   "outputs": [
    {
     "data": {
      "image/png": "[encoded data removed]",
      "text/plain": [
       "<Figure size 1080x360 with 3 Axes>"
      ]
     },
     "metadata": {
      "needs_background": "light"
     },
     "output_type": "display_data"
    }
   ],
   "source": [
    "bin_size = 0.02\n",
    "bins = np.arange(0, 0.7+bin_size, bin_size)\n",
    "tick_locs = np.arange(0, 0.8, 0.1)\n",
    "tick_labels = ['{:.0f}%'.format(v) for v in tick_locs*100]\n",
    "g = sb.displot(\n",
    "    data=listings_occ_mod,\n",
    "    x='occupancy',\n",
    "    col='room_type',\n",
    "    bins=bins,\n",
    "    stat='probability',\n",
    "    common_norm=False\n",
    ")\n",
    "plt.subplots_adjust(top=0.85)\n",
    "plt.suptitle('Distribution of Occupancy')\n",
    "g.set_titles('{col_name}')\n",
    "g.set_axis_labels('Occupancy', 'Proportion')\n",
    "g.set(xticks=tick_locs, xticklabels=tick_labels);"
   ]
  },
  {
   "cell_type": "code",
   "execution_count": 93,
   "metadata": {},
   "outputs": [
    {
     "data": {
      "image/png": "[encoded data removed]",
      "text/plain": [
       "<Figure size 864x648 with 1 Axes>"
      ]
     },
     "metadata": {
      "needs_background": "light"
     },
     "output_type": "display_data"
    }
   ],
   "source": [
    "plt.figure(figsize=[12, 9])\n",
    "sb.barplot(\n",
    "    data=listings_occ_higher,\n",
    "    x='room_type',\n",
    "    y='income_per_month',\n",
    "    estimator=np.median,\n",
    "    color=base_color,\n",
    "    ci=None\n",
    ")\n",
    "plt.axhline(y=median_rent, color='r')\n",
    "plt.title('Median Airbnb Income Per Month')\n",
    "plt.xlabel('')\n",
    "plt.ylabel('')\n",
    "medians = listings_occ_higher.groupby(['room_type'])['income_per_month'].median()\n",
    "locs, labels = plt.xticks()\n",
    "for loc, label in zip(locs, labels):\n",
    "    median = medians[label.get_text()]\n",
    "    median_label = '${:,.0f}'.format(median)\n",
    "    plt.text(loc, median+50, median_label, ha='center')\n",
    "plt.ylim(0, 2700)\n",
    "plt.yticks([])\n",
    "plt.text(1.5, 2450, 'Median Long-Term Rent Per Month: ${:,.0f}'.format(median_rent));"
   ]
  },
  {
   "cell_type": "code",
   "execution_count": 94,
   "metadata": {
    "scrolled": false
   },
   "outputs": [
    {
     "data": {
      "image/png": "[encoded data removed]",
      "text/plain": [
       "<Figure size 864x648 with 1 Axes>"
      ]
     },
     "metadata": {
      "needs_background": "light"
     },
     "output_type": "display_data"
    }
   ],
   "source": [
    "plt.figure(figsize=[12, 9])\n",
    "tick_locs = np.arange(0, 7000, 1000)\n",
    "tick_labels = ['${:,.0f}'.format(v) for v in tick_locs]\n",
    "sb.barplot(\n",
    "    data=listings_occ_entire_high,\n",
    "    x='accommodates',\n",
    "    y='income_per_month',\n",
    "    estimator=np.median,\n",
    "    color=base_color,\n",
    "    ci=None\n",
    ")\n",
    "plt.axhline(y=median_rent, color='r')\n",
    "plt.title('Median Airbnb Income Per Month by Listing Capacity')\n",
    "plt.xlabel('')\n",
    "plt.ylabel('')\n",
    "plt.yticks(tick_locs, tick_labels)\n",
    "plt.text(0, 2500, 'Median Long-Term\\nRent Per Month:\\n${:,.0f}'.format(median_rent));"
   ]
  },
  {
   "cell_type": "code",
   "execution_count": 95,
   "metadata": {},
   "outputs": [
    {
     "data": {
      "image/png": "[encoded data removed]",
      "text/plain": [
       "<Figure size 864x648 with 1 Axes>"
      ]
     },
     "metadata": {
      "needs_background": "light"
     },
     "output_type": "display_data"
    }
   ],
   "source": [
    "plt.figure(figsize=[12, 9])\n",
    "tick_locs = np.arange(0, 0.9, 0.1)\n",
    "tick_labels = ['{:.0f}%'.format(v) for v in tick_locs*100]\n",
    "sb.barplot(data=listings_host_loc, x='host_same_location', y='neighbourhood_cleansed', color=base_color, ci=None)\n",
    "plt.title('Percentage of Listings with Hosts in the Same City')\n",
    "plt.xlabel('')\n",
    "plt.xticks(tick_locs, tick_labels)\n",
    "plt.ylabel('');"
   ]
  },
  {
   "cell_type": "code",
   "execution_count": 96,
   "metadata": {
    "scrolled": false
   },
   "outputs": [
    {
     "data": {
      "image/png": "[encoded data removed]",
      "text/plain": [
       "<Figure size 864x648 with 1 Axes>"
      ]
     },
     "metadata": {
      "needs_background": "light"
     },
     "output_type": "display_data"
    }
   ],
   "source": [
    "plt.figure(figsize=[12, 9])\n",
    "log_bin_size = 0.2\n",
    "tick_labels = [1, 3, 10, 30, 100, 300]\n",
    "upper_log_bound = np.log10(listings_unique_hosts_multi['calculated_host_listings_count'].max())\n",
    "bins = 10**np.arange(0, upper_log_bound+log_bin_size, log_bin_size)\n",
    "plt.hist(data=listings_unique_hosts_multi, x='calculated_host_listings_count', bins=bins)\n",
    "plt.title('Distribution of Listings Per Host for Hosts with Multiple Listings')\n",
    "plt.xscale('log')\n",
    "plt.xticks(tick_labels, tick_labels)\n",
    "plt.xlabel('Number of Listings')\n",
    "plt.ylabel('Number of Hosts');"
   ]
  },
  {
   "cell_type": "markdown",
   "metadata": {},
   "source": [
    "<a id='deploy'></a>\n",
    "## Deploy\n",
    "\n",
    "The Medium blog post summarizing this investigation can be found [here](https://evanchen13.medium.com/this-is-how-airbnb-is-contributing-to-the-bay-area-housing-crisis-3d5bfd6c8ed2).\n",
    "\n",
    "<a id='sources'></a>\n",
    "## Sources\n",
    "\n",
    "- [Check if string matches a pattern](https://stackoverflow.com/questions/12595051/check-if-string-matches-pattern)\n",
    "- [Lists in Pandas dataframes](https://towardsdatascience.com/dealing-with-list-values-in-pandas-dataframes-a177e534f173)\n",
    "- [Strftime](https://strftime.org/)\n",
    "- [Convert dates to integers](https://stackoverflow.com/questions/51044411/how-do-you-manage-missing-date-in-a-dataframe)\n",
    "- [Inside Airbnb](http://insideairbnb.com/about.html)\n",
    "- [Inside Airbnb - Santa Clara County](http://insideairbnb.com/santa-clara-county/#)\n",
    "- [Santa Clara County Rent Statistics](https://www.deptofnumbers.com/rent/california/santa-clara-county/)\n",
    "- [Remove unused categories](https://stackoverflow.com/questions/62090972/why-does-pandas-value-counts-show-a-count-of-zero-for-some-values)\n",
    "- [About Airbnb](https://news.airbnb.com/about-us/)\n",
    "- [Airbnbs vs. hotels](https://www.investopedia.com/articles/investing/112414/airbnb-brings-sharing-economy-hotels.asp)"
   ]
  }
 ],
 "metadata": {
  "kernelspec": {
   "display_name": "Python 3",
   "language": "python",
   "name": "python3"
  },
  "language_info": {
   "codemirror_mode": {
    "name": "ipython",
    "version": 3
   },
   "file_extension": ".py",
   "mimetype": "text/x-python",
   "name": "python",
   "nbconvert_exporter": "python",
   "pygments_lexer": "ipython3",
   "version": "3.7.9"
  }
 },
 "nbformat": 4,
 "nbformat_minor": 4
}
